{
  "cells": [
    {
      "cell_type": "markdown",
      "metadata": {
        "id": "view-in-github",
        "colab_type": "text"
      },
      "source": [
        "<a href=\"https://colab.research.google.com/github/ChitteshKumar/udemy_deep_learning_tutorials/blob/main/DL_tutorials.ipynb\" target=\"_parent\"><img src=\"https://colab.research.google.com/assets/colab-badge.svg\" alt=\"Open In Colab\"/></a>"
      ]
    },
    {
      "cell_type": "code",
      "execution_count": null,
      "metadata": {
        "colab": {
          "base_uri": "https://localhost:8080/"
        },
        "id": "OuZvxYwc1ier",
        "outputId": "b30f363f-cdab-442f-e817-09f72f17eac7"
      },
      "outputs": [
        {
          "output_type": "stream",
          "name": "stdout",
          "text": [
            "2.12.0\n"
          ]
        }
      ],
      "source": [
        "import tensorflow as tf\n",
        "print(tf.__version__)"
      ]
    },
    {
      "cell_type": "code",
      "execution_count": null,
      "metadata": {
        "colab": {
          "base_uri": "https://localhost:8080/",
          "height": 35
        },
        "id": "nEQBh6aj3EpK",
        "outputId": "65a858c8-df31-4d51-ccc3-9691054eb720"
      },
      "outputs": [
        {
          "output_type": "display_data",
          "data": {
            "text/plain": [
              "<IPython.core.display.HTML object>"
            ],
            "text/html": [
              "\n",
              "     <input type=\"file\" id=\"files-18714f1d-0b30-4196-9e81-5db06117b0c4\" name=\"files[]\" multiple disabled\n",
              "        style=\"border:none\" />\n",
              "     <output id=\"result-18714f1d-0b30-4196-9e81-5db06117b0c4\">\n",
              "      Upload widget is only available when the cell has been executed in the\n",
              "      current browser session. Please rerun this cell to enable.\n",
              "      </output>\n",
              "      <script>// Copyright 2017 Google LLC\n",
              "//\n",
              "// Licensed under the Apache License, Version 2.0 (the \"License\");\n",
              "// you may not use this file except in compliance with the License.\n",
              "// You may obtain a copy of the License at\n",
              "//\n",
              "//      http://www.apache.org/licenses/LICENSE-2.0\n",
              "//\n",
              "// Unless required by applicable law or agreed to in writing, software\n",
              "// distributed under the License is distributed on an \"AS IS\" BASIS,\n",
              "// WITHOUT WARRANTIES OR CONDITIONS OF ANY KIND, either express or implied.\n",
              "// See the License for the specific language governing permissions and\n",
              "// limitations under the License.\n",
              "\n",
              "/**\n",
              " * @fileoverview Helpers for google.colab Python module.\n",
              " */\n",
              "(function(scope) {\n",
              "function span(text, styleAttributes = {}) {\n",
              "  const element = document.createElement('span');\n",
              "  element.textContent = text;\n",
              "  for (const key of Object.keys(styleAttributes)) {\n",
              "    element.style[key] = styleAttributes[key];\n",
              "  }\n",
              "  return element;\n",
              "}\n",
              "\n",
              "// Max number of bytes which will be uploaded at a time.\n",
              "const MAX_PAYLOAD_SIZE = 100 * 1024;\n",
              "\n",
              "function _uploadFiles(inputId, outputId) {\n",
              "  const steps = uploadFilesStep(inputId, outputId);\n",
              "  const outputElement = document.getElementById(outputId);\n",
              "  // Cache steps on the outputElement to make it available for the next call\n",
              "  // to uploadFilesContinue from Python.\n",
              "  outputElement.steps = steps;\n",
              "\n",
              "  return _uploadFilesContinue(outputId);\n",
              "}\n",
              "\n",
              "// This is roughly an async generator (not supported in the browser yet),\n",
              "// where there are multiple asynchronous steps and the Python side is going\n",
              "// to poll for completion of each step.\n",
              "// This uses a Promise to block the python side on completion of each step,\n",
              "// then passes the result of the previous step as the input to the next step.\n",
              "function _uploadFilesContinue(outputId) {\n",
              "  const outputElement = document.getElementById(outputId);\n",
              "  const steps = outputElement.steps;\n",
              "\n",
              "  const next = steps.next(outputElement.lastPromiseValue);\n",
              "  return Promise.resolve(next.value.promise).then((value) => {\n",
              "    // Cache the last promise value to make it available to the next\n",
              "    // step of the generator.\n",
              "    outputElement.lastPromiseValue = value;\n",
              "    return next.value.response;\n",
              "  });\n",
              "}\n",
              "\n",
              "/**\n",
              " * Generator function which is called between each async step of the upload\n",
              " * process.\n",
              " * @param {string} inputId Element ID of the input file picker element.\n",
              " * @param {string} outputId Element ID of the output display.\n",
              " * @return {!Iterable<!Object>} Iterable of next steps.\n",
              " */\n",
              "function* uploadFilesStep(inputId, outputId) {\n",
              "  const inputElement = document.getElementById(inputId);\n",
              "  inputElement.disabled = false;\n",
              "\n",
              "  const outputElement = document.getElementById(outputId);\n",
              "  outputElement.innerHTML = '';\n",
              "\n",
              "  const pickedPromise = new Promise((resolve) => {\n",
              "    inputElement.addEventListener('change', (e) => {\n",
              "      resolve(e.target.files);\n",
              "    });\n",
              "  });\n",
              "\n",
              "  const cancel = document.createElement('button');\n",
              "  inputElement.parentElement.appendChild(cancel);\n",
              "  cancel.textContent = 'Cancel upload';\n",
              "  const cancelPromise = new Promise((resolve) => {\n",
              "    cancel.onclick = () => {\n",
              "      resolve(null);\n",
              "    };\n",
              "  });\n",
              "\n",
              "  // Wait for the user to pick the files.\n",
              "  const files = yield {\n",
              "    promise: Promise.race([pickedPromise, cancelPromise]),\n",
              "    response: {\n",
              "      action: 'starting',\n",
              "    }\n",
              "  };\n",
              "\n",
              "  cancel.remove();\n",
              "\n",
              "  // Disable the input element since further picks are not allowed.\n",
              "  inputElement.disabled = true;\n",
              "\n",
              "  if (!files) {\n",
              "    return {\n",
              "      response: {\n",
              "        action: 'complete',\n",
              "      }\n",
              "    };\n",
              "  }\n",
              "\n",
              "  for (const file of files) {\n",
              "    const li = document.createElement('li');\n",
              "    li.append(span(file.name, {fontWeight: 'bold'}));\n",
              "    li.append(span(\n",
              "        `(${file.type || 'n/a'}) - ${file.size} bytes, ` +\n",
              "        `last modified: ${\n",
              "            file.lastModifiedDate ? file.lastModifiedDate.toLocaleDateString() :\n",
              "                                    'n/a'} - `));\n",
              "    const percent = span('0% done');\n",
              "    li.appendChild(percent);\n",
              "\n",
              "    outputElement.appendChild(li);\n",
              "\n",
              "    const fileDataPromise = new Promise((resolve) => {\n",
              "      const reader = new FileReader();\n",
              "      reader.onload = (e) => {\n",
              "        resolve(e.target.result);\n",
              "      };\n",
              "      reader.readAsArrayBuffer(file);\n",
              "    });\n",
              "    // Wait for the data to be ready.\n",
              "    let fileData = yield {\n",
              "      promise: fileDataPromise,\n",
              "      response: {\n",
              "        action: 'continue',\n",
              "      }\n",
              "    };\n",
              "\n",
              "    // Use a chunked sending to avoid message size limits. See b/62115660.\n",
              "    let position = 0;\n",
              "    do {\n",
              "      const length = Math.min(fileData.byteLength - position, MAX_PAYLOAD_SIZE);\n",
              "      const chunk = new Uint8Array(fileData, position, length);\n",
              "      position += length;\n",
              "\n",
              "      const base64 = btoa(String.fromCharCode.apply(null, chunk));\n",
              "      yield {\n",
              "        response: {\n",
              "          action: 'append',\n",
              "          file: file.name,\n",
              "          data: base64,\n",
              "        },\n",
              "      };\n",
              "\n",
              "      let percentDone = fileData.byteLength === 0 ?\n",
              "          100 :\n",
              "          Math.round((position / fileData.byteLength) * 100);\n",
              "      percent.textContent = `${percentDone}% done`;\n",
              "\n",
              "    } while (position < fileData.byteLength);\n",
              "  }\n",
              "\n",
              "  // All done.\n",
              "  yield {\n",
              "    response: {\n",
              "      action: 'complete',\n",
              "    }\n",
              "  };\n",
              "}\n",
              "\n",
              "scope.google = scope.google || {};\n",
              "scope.google.colab = scope.google.colab || {};\n",
              "scope.google.colab._files = {\n",
              "  _uploadFiles,\n",
              "  _uploadFilesContinue,\n",
              "};\n",
              "})(self);\n",
              "</script> "
            ]
          },
          "metadata": {}
        }
      ],
      "source": [
        "from google.colab import files\n",
        "uploaded = files.upload()\n"
      ]
    },
    {
      "cell_type": "markdown",
      "metadata": {
        "id": "9HudfQJY_P3s"
      },
      "source": [
        "###PART-1: Revision Classification"
      ]
    },
    {
      "cell_type": "code",
      "execution_count": null,
      "metadata": {
        "id": "kux_E-V3_U7v"
      },
      "outputs": [],
      "source": [
        "#loading data\n",
        "from sklearn.datasets import load_breast_cancer\n"
      ]
    },
    {
      "cell_type": "code",
      "execution_count": null,
      "metadata": {
        "colab": {
          "base_uri": "https://localhost:8080/"
        },
        "id": "bFZ3ZJo2mtYr",
        "outputId": "a54853fd-0c26-482b-9094-d51e223fa4e1"
      },
      "outputs": [
        {
          "output_type": "stream",
          "name": "stdout",
          "text": [
            "{'data': array([[1.799e+01, 1.038e+01, 1.228e+02, ..., 2.654e-01, 4.601e-01,\n",
            "        1.189e-01],\n",
            "       [2.057e+01, 1.777e+01, 1.329e+02, ..., 1.860e-01, 2.750e-01,\n",
            "        8.902e-02],\n",
            "       [1.969e+01, 2.125e+01, 1.300e+02, ..., 2.430e-01, 3.613e-01,\n",
            "        8.758e-02],\n",
            "       ...,\n",
            "       [1.660e+01, 2.808e+01, 1.083e+02, ..., 1.418e-01, 2.218e-01,\n",
            "        7.820e-02],\n",
            "       [2.060e+01, 2.933e+01, 1.401e+02, ..., 2.650e-01, 4.087e-01,\n",
            "        1.240e-01],\n",
            "       [7.760e+00, 2.454e+01, 4.792e+01, ..., 0.000e+00, 2.871e-01,\n",
            "        7.039e-02]]), 'target': array([0, 0, 0, 0, 0, 0, 0, 0, 0, 0, 0, 0, 0, 0, 0, 0, 0, 0, 0, 1, 1, 1,\n",
            "       0, 0, 0, 0, 0, 0, 0, 0, 0, 0, 0, 0, 0, 0, 0, 1, 0, 0, 0, 0, 0, 0,\n",
            "       0, 0, 1, 0, 1, 1, 1, 1, 1, 0, 0, 1, 0, 0, 1, 1, 1, 1, 0, 1, 0, 0,\n",
            "       1, 1, 1, 1, 0, 1, 0, 0, 1, 0, 1, 0, 0, 1, 1, 1, 0, 0, 1, 0, 0, 0,\n",
            "       1, 1, 1, 0, 1, 1, 0, 0, 1, 1, 1, 0, 0, 1, 1, 1, 1, 0, 1, 1, 0, 1,\n",
            "       1, 1, 1, 1, 1, 1, 1, 0, 0, 0, 1, 0, 0, 1, 1, 1, 0, 0, 1, 0, 1, 0,\n",
            "       0, 1, 0, 0, 1, 1, 0, 1, 1, 0, 1, 1, 1, 1, 0, 1, 1, 1, 1, 1, 1, 1,\n",
            "       1, 1, 0, 1, 1, 1, 1, 0, 0, 1, 0, 1, 1, 0, 0, 1, 1, 0, 0, 1, 1, 1,\n",
            "       1, 0, 1, 1, 0, 0, 0, 1, 0, 1, 0, 1, 1, 1, 0, 1, 1, 0, 0, 1, 0, 0,\n",
            "       0, 0, 1, 0, 0, 0, 1, 0, 1, 0, 1, 1, 0, 1, 0, 0, 0, 0, 1, 1, 0, 0,\n",
            "       1, 1, 1, 0, 1, 1, 1, 1, 1, 0, 0, 1, 1, 0, 1, 1, 0, 0, 1, 0, 1, 1,\n",
            "       1, 1, 0, 1, 1, 1, 1, 1, 0, 1, 0, 0, 0, 0, 0, 0, 0, 0, 0, 0, 0, 0,\n",
            "       0, 0, 1, 1, 1, 1, 1, 1, 0, 1, 0, 1, 1, 0, 1, 1, 0, 1, 0, 0, 1, 1,\n",
            "       1, 1, 1, 1, 1, 1, 1, 1, 1, 1, 1, 0, 1, 1, 0, 1, 0, 1, 1, 1, 1, 1,\n",
            "       1, 1, 1, 1, 1, 1, 1, 1, 1, 0, 1, 1, 1, 0, 1, 0, 1, 1, 1, 1, 0, 0,\n",
            "       0, 1, 1, 1, 1, 0, 1, 0, 1, 0, 1, 1, 1, 0, 1, 1, 1, 1, 1, 1, 1, 0,\n",
            "       0, 0, 1, 1, 1, 1, 1, 1, 1, 1, 1, 1, 1, 0, 0, 1, 0, 0, 0, 1, 0, 0,\n",
            "       1, 1, 1, 1, 1, 0, 1, 1, 1, 1, 1, 0, 1, 1, 1, 0, 1, 1, 0, 0, 1, 1,\n",
            "       1, 1, 1, 1, 0, 1, 1, 1, 1, 1, 1, 1, 0, 1, 1, 1, 1, 1, 0, 1, 1, 0,\n",
            "       1, 1, 1, 1, 1, 1, 1, 1, 1, 1, 1, 1, 0, 1, 0, 0, 1, 0, 1, 1, 1, 1,\n",
            "       1, 0, 1, 1, 0, 1, 0, 1, 1, 0, 1, 0, 1, 1, 1, 1, 1, 1, 1, 1, 0, 0,\n",
            "       1, 1, 1, 1, 1, 1, 0, 1, 1, 1, 1, 1, 1, 1, 1, 1, 1, 0, 1, 1, 1, 1,\n",
            "       1, 1, 1, 0, 1, 0, 1, 1, 0, 1, 1, 1, 1, 1, 0, 0, 1, 0, 1, 0, 1, 1,\n",
            "       1, 1, 1, 0, 1, 1, 0, 1, 0, 1, 0, 0, 1, 1, 1, 0, 1, 1, 1, 1, 1, 1,\n",
            "       1, 1, 1, 1, 1, 0, 1, 0, 0, 1, 1, 1, 1, 1, 1, 1, 1, 1, 1, 1, 1, 1,\n",
            "       1, 1, 1, 1, 1, 1, 1, 1, 1, 1, 1, 1, 0, 0, 0, 0, 0, 0, 1]), 'frame': None, 'target_names': array(['malignant', 'benign'], dtype='<U9'), 'DESCR': '.. _breast_cancer_dataset:\\n\\nBreast cancer wisconsin (diagnostic) dataset\\n--------------------------------------------\\n\\n**Data Set Characteristics:**\\n\\n    :Number of Instances: 569\\n\\n    :Number of Attributes: 30 numeric, predictive attributes and the class\\n\\n    :Attribute Information:\\n        - radius (mean of distances from center to points on the perimeter)\\n        - texture (standard deviation of gray-scale values)\\n        - perimeter\\n        - area\\n        - smoothness (local variation in radius lengths)\\n        - compactness (perimeter^2 / area - 1.0)\\n        - concavity (severity of concave portions of the contour)\\n        - concave points (number of concave portions of the contour)\\n        - symmetry\\n        - fractal dimension (\"coastline approximation\" - 1)\\n\\n        The mean, standard error, and \"worst\" or largest (mean of the three\\n        worst/largest values) of these features were computed for each image,\\n        resulting in 30 features.  For instance, field 0 is Mean Radius, field\\n        10 is Radius SE, field 20 is Worst Radius.\\n\\n        - class:\\n                - WDBC-Malignant\\n                - WDBC-Benign\\n\\n    :Summary Statistics:\\n\\n    ===================================== ====== ======\\n                                           Min    Max\\n    ===================================== ====== ======\\n    radius (mean):                        6.981  28.11\\n    texture (mean):                       9.71   39.28\\n    perimeter (mean):                     43.79  188.5\\n    area (mean):                          143.5  2501.0\\n    smoothness (mean):                    0.053  0.163\\n    compactness (mean):                   0.019  0.345\\n    concavity (mean):                     0.0    0.427\\n    concave points (mean):                0.0    0.201\\n    symmetry (mean):                      0.106  0.304\\n    fractal dimension (mean):             0.05   0.097\\n    radius (standard error):              0.112  2.873\\n    texture (standard error):             0.36   4.885\\n    perimeter (standard error):           0.757  21.98\\n    area (standard error):                6.802  542.2\\n    smoothness (standard error):          0.002  0.031\\n    compactness (standard error):         0.002  0.135\\n    concavity (standard error):           0.0    0.396\\n    concave points (standard error):      0.0    0.053\\n    symmetry (standard error):            0.008  0.079\\n    fractal dimension (standard error):   0.001  0.03\\n    radius (worst):                       7.93   36.04\\n    texture (worst):                      12.02  49.54\\n    perimeter (worst):                    50.41  251.2\\n    area (worst):                         185.2  4254.0\\n    smoothness (worst):                   0.071  0.223\\n    compactness (worst):                  0.027  1.058\\n    concavity (worst):                    0.0    1.252\\n    concave points (worst):               0.0    0.291\\n    symmetry (worst):                     0.156  0.664\\n    fractal dimension (worst):            0.055  0.208\\n    ===================================== ====== ======\\n\\n    :Missing Attribute Values: None\\n\\n    :Class Distribution: 212 - Malignant, 357 - Benign\\n\\n    :Creator:  Dr. William H. Wolberg, W. Nick Street, Olvi L. Mangasarian\\n\\n    :Donor: Nick Street\\n\\n    :Date: November, 1995\\n\\nThis is a copy of UCI ML Breast Cancer Wisconsin (Diagnostic) datasets.\\nhttps://goo.gl/U2Uwz2\\n\\nFeatures are computed from a digitized image of a fine needle\\naspirate (FNA) of a breast mass.  They describe\\ncharacteristics of the cell nuclei present in the image.\\n\\nSeparating plane described above was obtained using\\nMultisurface Method-Tree (MSM-T) [K. P. Bennett, \"Decision Tree\\nConstruction Via Linear Programming.\" Proceedings of the 4th\\nMidwest Artificial Intelligence and Cognitive Science Society,\\npp. 97-101, 1992], a classification method which uses linear\\nprogramming to construct a decision tree.  Relevant features\\nwere selected using an exhaustive search in the space of 1-4\\nfeatures and 1-3 separating planes.\\n\\nThe actual linear program used to obtain the separating plane\\nin the 3-dimensional space is that described in:\\n[K. P. Bennett and O. L. Mangasarian: \"Robust Linear\\nProgramming Discrimination of Two Linearly Inseparable Sets\",\\nOptimization Methods and Software 1, 1992, 23-34].\\n\\nThis database is also available through the UW CS ftp server:\\n\\nftp ftp.cs.wisc.edu\\ncd math-prog/cpo-dataset/machine-learn/WDBC/\\n\\n.. topic:: References\\n\\n   - W.N. Street, W.H. Wolberg and O.L. Mangasarian. Nuclear feature extraction \\n     for breast tumor diagnosis. IS&T/SPIE 1993 International Symposium on \\n     Electronic Imaging: Science and Technology, volume 1905, pages 861-870,\\n     San Jose, CA, 1993.\\n   - O.L. Mangasarian, W.N. Street and W.H. Wolberg. Breast cancer diagnosis and \\n     prognosis via linear programming. Operations Research, 43(4), pages 570-577, \\n     July-August 1995.\\n   - W.H. Wolberg, W.N. Street, and O.L. Mangasarian. Machine learning techniques\\n     to diagnose breast cancer from fine-needle aspirates. Cancer Letters 77 (1994) \\n     163-171.', 'feature_names': array(['mean radius', 'mean texture', 'mean perimeter', 'mean area',\n",
            "       'mean smoothness', 'mean compactness', 'mean concavity',\n",
            "       'mean concave points', 'mean symmetry', 'mean fractal dimension',\n",
            "       'radius error', 'texture error', 'perimeter error', 'area error',\n",
            "       'smoothness error', 'compactness error', 'concavity error',\n",
            "       'concave points error', 'symmetry error',\n",
            "       'fractal dimension error', 'worst radius', 'worst texture',\n",
            "       'worst perimeter', 'worst area', 'worst smoothness',\n",
            "       'worst compactness', 'worst concavity', 'worst concave points',\n",
            "       'worst symmetry', 'worst fractal dimension'], dtype='<U23'), 'filename': 'breast_cancer.csv', 'data_module': 'sklearn.datasets.data'}\n"
          ]
        }
      ],
      "source": [
        "data = load_breast_cancer()\n",
        "print(data)"
      ]
    },
    {
      "cell_type": "code",
      "execution_count": null,
      "metadata": {
        "colab": {
          "base_uri": "https://localhost:8080/"
        },
        "id": "_IsosOVXmxb_",
        "outputId": "ace6ef72-b6ba-4228-fbc1-3a34e909032e"
      },
      "outputs": [
        {
          "output_type": "execute_result",
          "data": {
            "text/plain": [
              "(569, 30)"
            ]
          },
          "metadata": {},
          "execution_count": 5
        }
      ],
      "source": [
        "type(data)\n",
        "data.keys()\n",
        "data.data.shape #(samples, features)"
      ]
    },
    {
      "cell_type": "code",
      "execution_count": null,
      "metadata": {
        "colab": {
          "base_uri": "https://localhost:8080/"
        },
        "id": "rCSGL73nnNih",
        "outputId": "4503a4a7-3c76-417e-8df8-c597325e2aab"
      },
      "outputs": [
        {
          "output_type": "execute_result",
          "data": {
            "text/plain": [
              "array(['malignant', 'benign'], dtype='<U9')"
            ]
          },
          "metadata": {},
          "execution_count": 6
        }
      ],
      "source": [
        "data.target #0...k-1 target\n",
        "\n",
        "data.target_names"
      ]
    },
    {
      "cell_type": "code",
      "execution_count": null,
      "metadata": {
        "colab": {
          "base_uri": "https://localhost:8080/"
        },
        "id": "AwrbIPBWpCIM",
        "outputId": "1318b328-aaf0-4534-b61e-48262c3aa94f"
      },
      "outputs": [
        {
          "output_type": "execute_result",
          "data": {
            "text/plain": [
              "array(['mean radius', 'mean texture', 'mean perimeter', 'mean area',\n",
              "       'mean smoothness', 'mean compactness', 'mean concavity',\n",
              "       'mean concave points', 'mean symmetry', 'mean fractal dimension',\n",
              "       'radius error', 'texture error', 'perimeter error', 'area error',\n",
              "       'smoothness error', 'compactness error', 'concavity error',\n",
              "       'concave points error', 'symmetry error',\n",
              "       'fractal dimension error', 'worst radius', 'worst texture',\n",
              "       'worst perimeter', 'worst area', 'worst smoothness',\n",
              "       'worst compactness', 'worst concavity', 'worst concave points',\n",
              "       'worst symmetry', 'worst fractal dimension'], dtype='<U23')"
            ]
          },
          "metadata": {},
          "execution_count": 7
        }
      ],
      "source": [
        "data.feature_names"
      ]
    },
    {
      "cell_type": "code",
      "execution_count": null,
      "metadata": {
        "id": "NPc4nNYJqWt9"
      },
      "outputs": [],
      "source": [
        "from sklearn.model_selection import train_test_split\n",
        "X_train, X_test, Y_train, Y_test = train_test_split(data.data, data.target)\n",
        "\n",
        "#samples in train set\n",
        "N,d = X_train.shape"
      ]
    },
    {
      "cell_type": "code",
      "execution_count": null,
      "metadata": {
        "id": "_0Z_bdP_qt_T"
      },
      "outputs": [],
      "source": [
        "from sklearn.preprocessing import StandardScaler #every element in the column with 0 mean and variance 1, before spltting.\n",
        "scaler = StandardScaler()\n",
        "# fit_tranform does fitting and tranforming at the same time\n",
        "X_train = scaler.fit_transform(X_train) #fit_tranform -> find parameters (mean and std) since it depicts the working of the model.\n",
        "X_test = scaler.transform(X_test)\n"
      ]
    },
    {
      "cell_type": "code",
      "execution_count": null,
      "metadata": {
        "id": "29MV-hg1tiHw"
      },
      "outputs": [],
      "source": [
        "# model = tf.keras.models.Sequential([\n",
        "#     tf.keras.layers.Input(shape=(d,)),\n",
        "#     tf.keras.layers.Dense(1, activation='sigmoid')\n",
        "# ])\n",
        "\n",
        "# #alternative\n",
        "model = tf.keras.models.Sequential()\n",
        "model.add(tf.keras.layers.Dense(1, input_shape=(d,), activation='sigmoid'))\n"
      ]
    },
    {
      "cell_type": "code",
      "execution_count": null,
      "metadata": {
        "id": "-sX9q3qyvcXn"
      },
      "outputs": [],
      "source": [
        "#compiling -\n",
        "model.compile(optimizer = 'adam', loss='binary_crossentropy', metrics=['accuracy'])\n"
      ]
    },
    {
      "cell_type": "code",
      "execution_count": null,
      "metadata": {
        "colab": {
          "base_uri": "https://localhost:8080/"
        },
        "id": "F80rnuhhv4dq",
        "outputId": "841aed00-7964-4773-b4cf-d4dd0a7ea32c"
      },
      "outputs": [
        {
          "output_type": "stream",
          "name": "stdout",
          "text": [
            "Epoch 1/100\n",
            "14/14 [==============================] - 2s 41ms/step - loss: 0.9077 - accuracy: 0.3873 - val_loss: 0.9035 - val_accuracy: 0.4406\n",
            "Epoch 2/100\n",
            "14/14 [==============================] - 0s 7ms/step - loss: 0.7969 - accuracy: 0.4812 - val_loss: 0.8086 - val_accuracy: 0.4895\n",
            "Epoch 3/100\n",
            "14/14 [==============================] - 0s 11ms/step - loss: 0.7032 - accuracy: 0.5681 - val_loss: 0.7273 - val_accuracy: 0.5874\n",
            "Epoch 4/100\n",
            "14/14 [==============================] - 0s 10ms/step - loss: 0.6244 - accuracy: 0.6761 - val_loss: 0.6577 - val_accuracy: 0.6434\n",
            "Epoch 5/100\n",
            "14/14 [==============================] - 0s 9ms/step - loss: 0.5563 - accuracy: 0.7394 - val_loss: 0.5999 - val_accuracy: 0.6993\n",
            "Epoch 6/100\n",
            "14/14 [==============================] - 0s 12ms/step - loss: 0.5015 - accuracy: 0.7793 - val_loss: 0.5500 - val_accuracy: 0.7552\n",
            "Epoch 7/100\n",
            "14/14 [==============================] - 0s 14ms/step - loss: 0.4562 - accuracy: 0.8099 - val_loss: 0.5074 - val_accuracy: 0.7972\n",
            "Epoch 8/100\n",
            "14/14 [==============================] - 0s 16ms/step - loss: 0.4172 - accuracy: 0.8498 - val_loss: 0.4731 - val_accuracy: 0.8112\n",
            "Epoch 9/100\n",
            "14/14 [==============================] - 0s 14ms/step - loss: 0.3867 - accuracy: 0.8732 - val_loss: 0.4419 - val_accuracy: 0.8392\n",
            "Epoch 10/100\n",
            "14/14 [==============================] - 0s 14ms/step - loss: 0.3592 - accuracy: 0.8967 - val_loss: 0.4148 - val_accuracy: 0.8392\n",
            "Epoch 11/100\n",
            "14/14 [==============================] - 0s 16ms/step - loss: 0.3361 - accuracy: 0.9108 - val_loss: 0.3918 - val_accuracy: 0.8601\n",
            "Epoch 12/100\n",
            "14/14 [==============================] - 0s 20ms/step - loss: 0.3166 - accuracy: 0.9178 - val_loss: 0.3727 - val_accuracy: 0.8741\n",
            "Epoch 13/100\n",
            "14/14 [==============================] - 0s 17ms/step - loss: 0.3001 - accuracy: 0.9249 - val_loss: 0.3551 - val_accuracy: 0.8811\n",
            "Epoch 14/100\n",
            "14/14 [==============================] - 0s 17ms/step - loss: 0.2852 - accuracy: 0.9296 - val_loss: 0.3396 - val_accuracy: 0.8951\n",
            "Epoch 15/100\n",
            "14/14 [==============================] - 0s 17ms/step - loss: 0.2722 - accuracy: 0.9343 - val_loss: 0.3255 - val_accuracy: 0.9021\n",
            "Epoch 16/100\n",
            "14/14 [==============================] - 0s 13ms/step - loss: 0.2604 - accuracy: 0.9366 - val_loss: 0.3129 - val_accuracy: 0.9021\n",
            "Epoch 17/100\n",
            "14/14 [==============================] - 0s 16ms/step - loss: 0.2502 - accuracy: 0.9413 - val_loss: 0.3016 - val_accuracy: 0.9021\n",
            "Epoch 18/100\n",
            "14/14 [==============================] - 0s 15ms/step - loss: 0.2411 - accuracy: 0.9413 - val_loss: 0.2915 - val_accuracy: 0.9021\n",
            "Epoch 19/100\n",
            "14/14 [==============================] - 0s 16ms/step - loss: 0.2328 - accuracy: 0.9413 - val_loss: 0.2826 - val_accuracy: 0.9091\n",
            "Epoch 20/100\n",
            "14/14 [==============================] - 0s 9ms/step - loss: 0.2251 - accuracy: 0.9413 - val_loss: 0.2739 - val_accuracy: 0.9091\n",
            "Epoch 21/100\n",
            "14/14 [==============================] - 0s 12ms/step - loss: 0.2181 - accuracy: 0.9437 - val_loss: 0.2657 - val_accuracy: 0.9231\n",
            "Epoch 22/100\n",
            "14/14 [==============================] - 0s 9ms/step - loss: 0.2116 - accuracy: 0.9437 - val_loss: 0.2583 - val_accuracy: 0.9371\n",
            "Epoch 23/100\n",
            "14/14 [==============================] - 0s 13ms/step - loss: 0.2057 - accuracy: 0.9460 - val_loss: 0.2516 - val_accuracy: 0.9371\n",
            "Epoch 24/100\n",
            "14/14 [==============================] - 0s 9ms/step - loss: 0.2001 - accuracy: 0.9460 - val_loss: 0.2452 - val_accuracy: 0.9441\n",
            "Epoch 25/100\n",
            "14/14 [==============================] - 0s 12ms/step - loss: 0.1949 - accuracy: 0.9484 - val_loss: 0.2392 - val_accuracy: 0.9580\n",
            "Epoch 26/100\n",
            "14/14 [==============================] - 0s 10ms/step - loss: 0.1902 - accuracy: 0.9531 - val_loss: 0.2334 - val_accuracy: 0.9580\n",
            "Epoch 27/100\n",
            "14/14 [==============================] - 0s 8ms/step - loss: 0.1855 - accuracy: 0.9531 - val_loss: 0.2284 - val_accuracy: 0.9650\n",
            "Epoch 28/100\n",
            "14/14 [==============================] - 0s 9ms/step - loss: 0.1814 - accuracy: 0.9577 - val_loss: 0.2237 - val_accuracy: 0.9650\n",
            "Epoch 29/100\n",
            "14/14 [==============================] - 0s 9ms/step - loss: 0.1774 - accuracy: 0.9577 - val_loss: 0.2191 - val_accuracy: 0.9650\n",
            "Epoch 30/100\n",
            "14/14 [==============================] - 0s 10ms/step - loss: 0.1736 - accuracy: 0.9601 - val_loss: 0.2149 - val_accuracy: 0.9650\n",
            "Epoch 31/100\n",
            "14/14 [==============================] - 0s 12ms/step - loss: 0.1701 - accuracy: 0.9601 - val_loss: 0.2107 - val_accuracy: 0.9650\n",
            "Epoch 32/100\n",
            "14/14 [==============================] - 0s 13ms/step - loss: 0.1668 - accuracy: 0.9624 - val_loss: 0.2065 - val_accuracy: 0.9650\n",
            "Epoch 33/100\n",
            "14/14 [==============================] - 0s 13ms/step - loss: 0.1636 - accuracy: 0.9624 - val_loss: 0.2028 - val_accuracy: 0.9650\n",
            "Epoch 34/100\n",
            "14/14 [==============================] - 0s 14ms/step - loss: 0.1607 - accuracy: 0.9624 - val_loss: 0.1994 - val_accuracy: 0.9720\n",
            "Epoch 35/100\n",
            "14/14 [==============================] - 0s 12ms/step - loss: 0.1579 - accuracy: 0.9624 - val_loss: 0.1961 - val_accuracy: 0.9720\n",
            "Epoch 36/100\n",
            "14/14 [==============================] - 0s 16ms/step - loss: 0.1552 - accuracy: 0.9624 - val_loss: 0.1930 - val_accuracy: 0.9720\n",
            "Epoch 37/100\n",
            "14/14 [==============================] - 0s 26ms/step - loss: 0.1527 - accuracy: 0.9624 - val_loss: 0.1899 - val_accuracy: 0.9720\n",
            "Epoch 38/100\n",
            "14/14 [==============================] - 0s 8ms/step - loss: 0.1503 - accuracy: 0.9624 - val_loss: 0.1871 - val_accuracy: 0.9720\n",
            "Epoch 39/100\n",
            "14/14 [==============================] - 0s 22ms/step - loss: 0.1480 - accuracy: 0.9624 - val_loss: 0.1846 - val_accuracy: 0.9720\n",
            "Epoch 40/100\n",
            "14/14 [==============================] - 0s 15ms/step - loss: 0.1458 - accuracy: 0.9648 - val_loss: 0.1820 - val_accuracy: 0.9720\n",
            "Epoch 41/100\n",
            "14/14 [==============================] - 0s 14ms/step - loss: 0.1437 - accuracy: 0.9648 - val_loss: 0.1795 - val_accuracy: 0.9720\n",
            "Epoch 42/100\n",
            "14/14 [==============================] - 0s 8ms/step - loss: 0.1417 - accuracy: 0.9671 - val_loss: 0.1772 - val_accuracy: 0.9720\n",
            "Epoch 43/100\n",
            "14/14 [==============================] - 0s 18ms/step - loss: 0.1397 - accuracy: 0.9671 - val_loss: 0.1749 - val_accuracy: 0.9720\n",
            "Epoch 44/100\n",
            "14/14 [==============================] - 0s 11ms/step - loss: 0.1379 - accuracy: 0.9671 - val_loss: 0.1728 - val_accuracy: 0.9720\n",
            "Epoch 45/100\n",
            "14/14 [==============================] - 0s 7ms/step - loss: 0.1361 - accuracy: 0.9671 - val_loss: 0.1708 - val_accuracy: 0.9720\n",
            "Epoch 46/100\n",
            "14/14 [==============================] - 0s 10ms/step - loss: 0.1343 - accuracy: 0.9671 - val_loss: 0.1690 - val_accuracy: 0.9720\n",
            "Epoch 47/100\n",
            "14/14 [==============================] - 0s 9ms/step - loss: 0.1327 - accuracy: 0.9671 - val_loss: 0.1673 - val_accuracy: 0.9720\n",
            "Epoch 48/100\n",
            "14/14 [==============================] - 0s 7ms/step - loss: 0.1311 - accuracy: 0.9671 - val_loss: 0.1656 - val_accuracy: 0.9720\n",
            "Epoch 49/100\n",
            "14/14 [==============================] - 0s 9ms/step - loss: 0.1296 - accuracy: 0.9671 - val_loss: 0.1638 - val_accuracy: 0.9720\n",
            "Epoch 50/100\n",
            "14/14 [==============================] - 0s 13ms/step - loss: 0.1281 - accuracy: 0.9671 - val_loss: 0.1621 - val_accuracy: 0.9720\n",
            "Epoch 51/100\n",
            "14/14 [==============================] - 0s 12ms/step - loss: 0.1267 - accuracy: 0.9671 - val_loss: 0.1605 - val_accuracy: 0.9720\n",
            "Epoch 52/100\n",
            "14/14 [==============================] - 0s 12ms/step - loss: 0.1253 - accuracy: 0.9671 - val_loss: 0.1590 - val_accuracy: 0.9720\n",
            "Epoch 53/100\n",
            "14/14 [==============================] - 0s 7ms/step - loss: 0.1239 - accuracy: 0.9671 - val_loss: 0.1573 - val_accuracy: 0.9720\n",
            "Epoch 54/100\n",
            "14/14 [==============================] - 0s 11ms/step - loss: 0.1226 - accuracy: 0.9671 - val_loss: 0.1559 - val_accuracy: 0.9720\n",
            "Epoch 55/100\n",
            "14/14 [==============================] - 0s 11ms/step - loss: 0.1213 - accuracy: 0.9671 - val_loss: 0.1546 - val_accuracy: 0.9720\n",
            "Epoch 56/100\n",
            "14/14 [==============================] - 0s 11ms/step - loss: 0.1201 - accuracy: 0.9671 - val_loss: 0.1534 - val_accuracy: 0.9720\n",
            "Epoch 57/100\n",
            "14/14 [==============================] - 0s 8ms/step - loss: 0.1190 - accuracy: 0.9671 - val_loss: 0.1524 - val_accuracy: 0.9720\n",
            "Epoch 58/100\n",
            "14/14 [==============================] - 0s 11ms/step - loss: 0.1178 - accuracy: 0.9671 - val_loss: 0.1512 - val_accuracy: 0.9720\n",
            "Epoch 59/100\n",
            "14/14 [==============================] - 0s 10ms/step - loss: 0.1167 - accuracy: 0.9671 - val_loss: 0.1499 - val_accuracy: 0.9720\n",
            "Epoch 60/100\n",
            "14/14 [==============================] - 0s 8ms/step - loss: 0.1156 - accuracy: 0.9671 - val_loss: 0.1486 - val_accuracy: 0.9720\n",
            "Epoch 61/100\n",
            "14/14 [==============================] - 0s 8ms/step - loss: 0.1145 - accuracy: 0.9671 - val_loss: 0.1475 - val_accuracy: 0.9720\n",
            "Epoch 62/100\n",
            "14/14 [==============================] - 0s 11ms/step - loss: 0.1135 - accuracy: 0.9671 - val_loss: 0.1465 - val_accuracy: 0.9650\n",
            "Epoch 63/100\n",
            "14/14 [==============================] - 0s 7ms/step - loss: 0.1125 - accuracy: 0.9671 - val_loss: 0.1454 - val_accuracy: 0.9650\n",
            "Epoch 64/100\n",
            "14/14 [==============================] - 0s 10ms/step - loss: 0.1116 - accuracy: 0.9671 - val_loss: 0.1444 - val_accuracy: 0.9650\n",
            "Epoch 65/100\n",
            "14/14 [==============================] - 0s 10ms/step - loss: 0.1107 - accuracy: 0.9671 - val_loss: 0.1432 - val_accuracy: 0.9650\n",
            "Epoch 66/100\n",
            "14/14 [==============================] - 0s 7ms/step - loss: 0.1098 - accuracy: 0.9695 - val_loss: 0.1426 - val_accuracy: 0.9650\n",
            "Epoch 67/100\n",
            "14/14 [==============================] - 0s 10ms/step - loss: 0.1089 - accuracy: 0.9695 - val_loss: 0.1419 - val_accuracy: 0.9650\n",
            "Epoch 68/100\n",
            "14/14 [==============================] - 0s 13ms/step - loss: 0.1080 - accuracy: 0.9695 - val_loss: 0.1411 - val_accuracy: 0.9650\n",
            "Epoch 69/100\n",
            "14/14 [==============================] - 0s 8ms/step - loss: 0.1071 - accuracy: 0.9695 - val_loss: 0.1403 - val_accuracy: 0.9650\n",
            "Epoch 70/100\n",
            "14/14 [==============================] - 0s 8ms/step - loss: 0.1063 - accuracy: 0.9695 - val_loss: 0.1394 - val_accuracy: 0.9650\n",
            "Epoch 71/100\n",
            "14/14 [==============================] - 0s 13ms/step - loss: 0.1055 - accuracy: 0.9695 - val_loss: 0.1386 - val_accuracy: 0.9650\n",
            "Epoch 72/100\n",
            "14/14 [==============================] - 0s 14ms/step - loss: 0.1047 - accuracy: 0.9695 - val_loss: 0.1379 - val_accuracy: 0.9650\n",
            "Epoch 73/100\n",
            "14/14 [==============================] - 0s 9ms/step - loss: 0.1040 - accuracy: 0.9695 - val_loss: 0.1368 - val_accuracy: 0.9650\n",
            "Epoch 74/100\n",
            "14/14 [==============================] - 0s 9ms/step - loss: 0.1032 - accuracy: 0.9695 - val_loss: 0.1362 - val_accuracy: 0.9650\n",
            "Epoch 75/100\n",
            "14/14 [==============================] - 0s 9ms/step - loss: 0.1025 - accuracy: 0.9695 - val_loss: 0.1355 - val_accuracy: 0.9650\n",
            "Epoch 76/100\n",
            "14/14 [==============================] - 0s 9ms/step - loss: 0.1018 - accuracy: 0.9695 - val_loss: 0.1347 - val_accuracy: 0.9650\n",
            "Epoch 77/100\n",
            "14/14 [==============================] - 0s 9ms/step - loss: 0.1011 - accuracy: 0.9695 - val_loss: 0.1339 - val_accuracy: 0.9650\n",
            "Epoch 78/100\n",
            "14/14 [==============================] - 0s 11ms/step - loss: 0.1004 - accuracy: 0.9695 - val_loss: 0.1332 - val_accuracy: 0.9650\n",
            "Epoch 79/100\n",
            "14/14 [==============================] - 0s 10ms/step - loss: 0.0997 - accuracy: 0.9695 - val_loss: 0.1325 - val_accuracy: 0.9650\n",
            "Epoch 80/100\n",
            "14/14 [==============================] - 0s 13ms/step - loss: 0.0991 - accuracy: 0.9695 - val_loss: 0.1318 - val_accuracy: 0.9650\n",
            "Epoch 81/100\n",
            "14/14 [==============================] - 0s 13ms/step - loss: 0.0984 - accuracy: 0.9695 - val_loss: 0.1312 - val_accuracy: 0.9650\n",
            "Epoch 82/100\n",
            "14/14 [==============================] - 0s 23ms/step - loss: 0.0978 - accuracy: 0.9695 - val_loss: 0.1305 - val_accuracy: 0.9650\n",
            "Epoch 83/100\n",
            "14/14 [==============================] - 0s 25ms/step - loss: 0.0971 - accuracy: 0.9695 - val_loss: 0.1300 - val_accuracy: 0.9580\n",
            "Epoch 84/100\n",
            "14/14 [==============================] - 0s 30ms/step - loss: 0.0965 - accuracy: 0.9695 - val_loss: 0.1295 - val_accuracy: 0.9580\n",
            "Epoch 85/100\n",
            "14/14 [==============================] - 0s 25ms/step - loss: 0.0959 - accuracy: 0.9695 - val_loss: 0.1288 - val_accuracy: 0.9580\n",
            "Epoch 86/100\n",
            "14/14 [==============================] - 0s 20ms/step - loss: 0.0953 - accuracy: 0.9695 - val_loss: 0.1283 - val_accuracy: 0.9580\n",
            "Epoch 87/100\n",
            "14/14 [==============================] - 0s 19ms/step - loss: 0.0947 - accuracy: 0.9695 - val_loss: 0.1278 - val_accuracy: 0.9580\n",
            "Epoch 88/100\n",
            "14/14 [==============================] - 0s 19ms/step - loss: 0.0942 - accuracy: 0.9695 - val_loss: 0.1272 - val_accuracy: 0.9580\n",
            "Epoch 89/100\n",
            "14/14 [==============================] - 0s 27ms/step - loss: 0.0937 - accuracy: 0.9695 - val_loss: 0.1270 - val_accuracy: 0.9580\n",
            "Epoch 90/100\n",
            "14/14 [==============================] - 0s 27ms/step - loss: 0.0931 - accuracy: 0.9742 - val_loss: 0.1262 - val_accuracy: 0.9580\n",
            "Epoch 91/100\n",
            "14/14 [==============================] - 0s 27ms/step - loss: 0.0926 - accuracy: 0.9742 - val_loss: 0.1257 - val_accuracy: 0.9580\n",
            "Epoch 92/100\n",
            "14/14 [==============================] - 0s 13ms/step - loss: 0.0921 - accuracy: 0.9742 - val_loss: 0.1253 - val_accuracy: 0.9580\n",
            "Epoch 93/100\n",
            "14/14 [==============================] - 0s 22ms/step - loss: 0.0916 - accuracy: 0.9742 - val_loss: 0.1247 - val_accuracy: 0.9580\n",
            "Epoch 94/100\n",
            "14/14 [==============================] - 0s 16ms/step - loss: 0.0911 - accuracy: 0.9742 - val_loss: 0.1242 - val_accuracy: 0.9580\n",
            "Epoch 95/100\n",
            "14/14 [==============================] - 0s 16ms/step - loss: 0.0906 - accuracy: 0.9742 - val_loss: 0.1238 - val_accuracy: 0.9580\n",
            "Epoch 96/100\n",
            "14/14 [==============================] - 0s 9ms/step - loss: 0.0901 - accuracy: 0.9765 - val_loss: 0.1235 - val_accuracy: 0.9580\n",
            "Epoch 97/100\n",
            "14/14 [==============================] - 0s 14ms/step - loss: 0.0896 - accuracy: 0.9765 - val_loss: 0.1230 - val_accuracy: 0.9580\n",
            "Epoch 98/100\n",
            "14/14 [==============================] - 0s 17ms/step - loss: 0.0891 - accuracy: 0.9765 - val_loss: 0.1227 - val_accuracy: 0.9580\n",
            "Epoch 99/100\n",
            "14/14 [==============================] - 0s 9ms/step - loss: 0.0887 - accuracy: 0.9765 - val_loss: 0.1221 - val_accuracy: 0.9580\n",
            "Epoch 100/100\n",
            "14/14 [==============================] - 0s 9ms/step - loss: 0.0882 - accuracy: 0.9765 - val_loss: 0.1218 - val_accuracy: 0.9580\n"
          ]
        }
      ],
      "source": [
        "#training the model\n",
        "r = model.fit(X_train, Y_train, validation_data=(X_test, Y_test), epochs=100)\n",
        "\n"
      ]
    },
    {
      "cell_type": "code",
      "execution_count": null,
      "metadata": {
        "colab": {
          "base_uri": "https://localhost:8080/"
        },
        "id": "PW6tFHKMwajO",
        "outputId": "a8517607-1ea8-4c98-f733-d63b46b56d48"
      },
      "outputs": [
        {
          "output_type": "stream",
          "name": "stdout",
          "text": [
            "14/14 [==============================] - 0s 6ms/step - loss: 0.0880 - accuracy: 0.9765\n",
            "Training score:  [0.08796581625938416, 0.9765258431434631]\n",
            "5/5 [==============================] - 0s 5ms/step - loss: 0.1218 - accuracy: 0.9580\n",
            "Testing score:  [0.12177818268537521, 0.9580419659614563]\n"
          ]
        }
      ],
      "source": [
        "\n",
        "print(\"Training score: \" , model.evaluate(X_train, Y_train))\n",
        "print(\"Testing score: \" , model.evaluate(X_test, Y_test))\n"
      ]
    },
    {
      "cell_type": "code",
      "execution_count": null,
      "metadata": {
        "colab": {
          "base_uri": "https://localhost:8080/",
          "height": 447
        },
        "id": "9zbboJR9xfOY",
        "outputId": "626afc7b-285b-4e0c-c332-ffb77da2fa1a"
      },
      "outputs": [
        {
          "output_type": "execute_result",
          "data": {
            "text/plain": [
              "<matplotlib.legend.Legend at 0x7e4f703b43d0>"
            ]
          },
          "metadata": {},
          "execution_count": 14
        },
        {
          "output_type": "display_data",
          "data": {
            "text/plain": [
              "<Figure size 640x480 with 1 Axes>"
            ],
            "image/png": "[encoded data removed]"
          },
          "metadata": {}
        }
      ],
      "source": [
        "import matplotlib.pyplot as plt\n",
        "plt.plot(r.history['loss'], label='loss')\n",
        "plt.plot(r.history['val_loss'], label='val_loss')\n",
        "plt.legend()\n"
      ]
    },
    {
      "cell_type": "code",
      "execution_count": null,
      "metadata": {
        "colab": {
          "base_uri": "https://localhost:8080/",
          "height": 449
        },
        "id": "RYxK_TLvyf_A",
        "outputId": "1e223788-187d-41f2-fe5f-a2b4e95fc06b"
      },
      "outputs": [
        {
          "output_type": "execute_result",
          "data": {
            "text/plain": [
              "<matplotlib.legend.Legend at 0x7e4f71fff5b0>"
            ]
          },
          "metadata": {},
          "execution_count": 15
        },
        {
          "output_type": "display_data",
          "data": {
            "text/plain": [
              "<Figure size 640x480 with 1 Axes>"
            ],
            "image/png": "[encoded data removed]"
          },
          "metadata": {}
        }
      ],
      "source": [
        "plt.plot(r.history['accuracy'], label='accuracy')\n",
        "plt.plot(r.history['val_accuracy'], label='val_acc')\n",
        "plt.legend()\n"
      ]
    },
    {
      "cell_type": "code",
      "execution_count": null,
      "metadata": {
        "id": "tRESvKR11pfI"
      },
      "outputs": [],
      "source": []
    },
    {
      "cell_type": "markdown",
      "metadata": {
        "id": "7gFaYahFDlFx"
      },
      "source": [
        "###PART-2: Revision Regression"
      ]
    },
    {
      "cell_type": "code",
      "execution_count": null,
      "metadata": {
        "id": "4a7qLVkhDpNL"
      },
      "outputs": [],
      "source": [
        "import tensorflow as tf\n",
        "import pandas as pd\n",
        "import numpy as np\n",
        "import matplotlib.pyplot as plt"
      ]
    },
    {
      "cell_type": "code",
      "execution_count": null,
      "metadata": {
        "colab": {
          "base_uri": "https://localhost:8080/"
        },
        "id": "T08b68yEIwDJ",
        "outputId": "1112f93b-de56-418e-b174-415e12690e77"
      },
      "outputs": [
        {
          "output_type": "stream",
          "name": "stdout",
          "text": [
            "--2023-08-04 13:27:31--  https://raw.githubusercontent.com/lazyprogrammer/machine_learning_examples/master/tf2.0/moore.csv\n",
            "Resolving raw.githubusercontent.com (raw.githubusercontent.com)... 185.199.109.133, 185.199.111.133, 185.199.108.133, ...\n",
            "Connecting to raw.githubusercontent.com (raw.githubusercontent.com)|185.199.109.133|:443... connected.\n",
            "HTTP request sent, awaiting response... 200 OK\n",
            "Length: 2302 (2.2K) [text/plain]\n",
            "Saving to: ‘moore.csv’\n",
            "\n",
            "\rmoore.csv             0%[                    ]       0  --.-KB/s               \rmoore.csv           100%[===================>]   2.25K  --.-KB/s    in 0s      \n",
            "\n",
            "2023-08-04 13:27:31 (33.7 MB/s) - ‘moore.csv’ saved [2302/2302]\n",
            "\n"
          ]
        }
      ],
      "source": [
        "#get the data\n",
        "!wget https://raw.githubusercontent.com/lazyprogrammer/machine_learning_examples/master/tf2.0/moore.csv\n"
      ]
    },
    {
      "cell_type": "code",
      "execution_count": null,
      "metadata": {
        "colab": {
          "base_uri": "https://localhost:8080/"
        },
        "id": "NUbLw2ytJCop",
        "outputId": "dd011f34-9d44-46b4-a64f-e7d09e4019a8"
      },
      "outputs": [
        {
          "output_type": "stream",
          "name": "stdout",
          "text": [
            "moore.csv  sample_data\n"
          ]
        }
      ],
      "source": [
        "!ls"
      ]
    },
    {
      "cell_type": "code",
      "execution_count": null,
      "metadata": {
        "id": "ZUnR3cnLJKHr"
      },
      "outputs": [],
      "source": [
        "#load the data\n",
        "data = pd.read_csv('moore.csv', header=None).to_numpy()"
      ]
    },
    {
      "cell_type": "code",
      "execution_count": null,
      "metadata": {
        "id": "iyx8ABvdUr6b"
      },
      "outputs": [],
      "source": [
        "X = data[:, 0].reshape(-1, 1)  #-1 is a wildcard -> put there whatever is left because X is a 2d array (N,d - matrix)\n",
        "Y = data[:,1]"
      ]
    },
    {
      "cell_type": "code",
      "execution_count": null,
      "metadata": {
        "colab": {
          "base_uri": "https://localhost:8080/",
          "height": 462
        },
        "id": "8hJq8tJRWGZs",
        "outputId": "29584e92-ce56-49c4-d83e-3debc3e8a07d"
      },
      "outputs": [
        {
          "output_type": "execute_result",
          "data": {
            "text/plain": [
              "<matplotlib.collections.PathCollection at 0x7e4f720c7f70>"
            ]
          },
          "metadata": {},
          "execution_count": 21
        },
        {
          "output_type": "display_data",
          "data": {
            "text/plain": [
              "<Figure size 640x480 with 1 Axes>"
            ],
            "image/png": "[encoded data removed]"
          },
          "metadata": {}
        }
      ],
      "source": [
        "#Plot data\n",
        "plt.scatter(X,Y)"
      ]
    },
    {
      "cell_type": "code",
      "execution_count": null,
      "metadata": {
        "colab": {
          "base_uri": "https://localhost:8080/",
          "height": 447
        },
        "id": "NdV8_oJsWwzV",
        "outputId": "6e253dba-5fca-4a84-b279-c6084db79940"
      },
      "outputs": [
        {
          "output_type": "execute_result",
          "data": {
            "text/plain": [
              "<matplotlib.collections.PathCollection at 0x7e4f71f5f040>"
            ]
          },
          "metadata": {},
          "execution_count": 22
        },
        {
          "output_type": "display_data",
          "data": {
            "text/plain": [
              "<Figure size 640x480 with 1 Axes>"
            ],
            "image/png": "[encoded data removed]"
          },
          "metadata": {}
        }
      ],
      "source": [
        "#linear model\n",
        "Y= np.log(Y)\n",
        "plt.scatter(X,Y)"
      ]
    },
    {
      "cell_type": "code",
      "execution_count": null,
      "metadata": {
        "id": "RPf9YPRRXMmu"
      },
      "outputs": [],
      "source": [
        "X = X - X.mean() #translating the data, (scaling)"
      ]
    },
    {
      "cell_type": "code",
      "execution_count": null,
      "metadata": {
        "id": "vZXDSY8QXu83"
      },
      "outputs": [],
      "source": [
        "model = tf.keras.models.Sequential([\n",
        "    tf.keras.layers.Input(shape=(1,)),\n",
        "    tf.keras.layers.Dense(1),\n",
        "\n",
        "])"
      ]
    },
    {
      "cell_type": "code",
      "execution_count": null,
      "metadata": {
        "id": "VyULPRbHqReq"
      },
      "outputs": [],
      "source": [
        "model.compile(\n",
        "    optimizer = tf.keras.optimizers.SGD(0.001, 0.9),   # (learning rate , momentum)\n",
        "    loss = 'mse',\n",
        ")"
      ]
    },
    {
      "cell_type": "code",
      "execution_count": null,
      "metadata": {
        "id": "Ao2yIEOuqkJc"
      },
      "outputs": [],
      "source": [
        "def scheduler(epoch, lr):\n",
        "  if epoch >=50:\n",
        "    return 0.0001\n",
        "  else:\n",
        "    return 0.001\n",
        "\n",
        "\n",
        "schedule = tf.keras.callbacks.LearningRateScheduler(scheduler)"
      ]
    },
    {
      "cell_type": "code",
      "execution_count": null,
      "metadata": {
        "colab": {
          "base_uri": "https://localhost:8080/"
        },
        "id": "EfjFa25K0poF",
        "outputId": "1770d983-749c-4898-fc35-7468dc0d3c1d"
      },
      "outputs": [
        {
          "output_type": "stream",
          "name": "stdout",
          "text": [
            "Epoch 1/200\n",
            "6/6 [==============================] - 1s 4ms/step - loss: 501.4649 - lr: 0.0010\n",
            "Epoch 2/200\n",
            "6/6 [==============================] - 0s 4ms/step - loss: 472.5176 - lr: 0.0010\n",
            "Epoch 3/200\n",
            "6/6 [==============================] - 0s 5ms/step - loss: 263.8104 - lr: 0.0010\n",
            "Epoch 4/200\n",
            "6/6 [==============================] - 0s 7ms/step - loss: 347.8970 - lr: 0.0010\n",
            "Epoch 5/200\n",
            "6/6 [==============================] - 0s 5ms/step - loss: 365.0665 - lr: 0.0010\n",
            "Epoch 6/200\n",
            "6/6 [==============================] - 0s 4ms/step - loss: 274.5500 - lr: 0.0010\n",
            "Epoch 7/200\n",
            "6/6 [==============================] - 0s 3ms/step - loss: 187.4280 - lr: 0.0010\n",
            "Epoch 8/200\n",
            "6/6 [==============================] - 0s 3ms/step - loss: 97.2744 - lr: 0.0010\n",
            "Epoch 9/200\n",
            "6/6 [==============================] - 0s 4ms/step - loss: 56.9818 - lr: 0.0010\n",
            "Epoch 10/200\n",
            "6/6 [==============================] - 0s 4ms/step - loss: 37.9485 - lr: 0.0010\n",
            "Epoch 11/200\n",
            "6/6 [==============================] - 0s 4ms/step - loss: 28.1635 - lr: 0.0010\n",
            "Epoch 12/200\n",
            "6/6 [==============================] - 0s 8ms/step - loss: 22.2742 - lr: 0.0010\n",
            "Epoch 13/200\n",
            "6/6 [==============================] - 0s 6ms/step - loss: 17.3409 - lr: 0.0010\n",
            "Epoch 14/200\n",
            "6/6 [==============================] - 0s 4ms/step - loss: 17.7683 - lr: 0.0010\n",
            "Epoch 15/200\n",
            "6/6 [==============================] - 0s 7ms/step - loss: 15.6068 - lr: 0.0010\n",
            "Epoch 16/200\n",
            "6/6 [==============================] - 0s 4ms/step - loss: 20.1892 - lr: 0.0010\n",
            "Epoch 17/200\n",
            "6/6 [==============================] - 0s 5ms/step - loss: 13.0334 - lr: 0.0010\n",
            "Epoch 18/200\n",
            "6/6 [==============================] - 0s 8ms/step - loss: 12.2292 - lr: 0.0010\n",
            "Epoch 19/200\n",
            "6/6 [==============================] - 0s 7ms/step - loss: 6.3534 - lr: 0.0010\n",
            "Epoch 20/200\n",
            "6/6 [==============================] - 0s 7ms/step - loss: 4.6982 - lr: 0.0010\n",
            "Epoch 21/200\n",
            "6/6 [==============================] - 0s 7ms/step - loss: 4.1461 - lr: 0.0010\n",
            "Epoch 22/200\n",
            "6/6 [==============================] - 0s 8ms/step - loss: 6.2727 - lr: 0.0010\n",
            "Epoch 23/200\n",
            "6/6 [==============================] - 0s 5ms/step - loss: 5.2487 - lr: 0.0010\n",
            "Epoch 24/200\n",
            "6/6 [==============================] - 0s 4ms/step - loss: 4.1204 - lr: 0.0010\n",
            "Epoch 25/200\n",
            "6/6 [==============================] - 0s 5ms/step - loss: 2.8884 - lr: 0.0010\n",
            "Epoch 26/200\n",
            "6/6 [==============================] - 0s 4ms/step - loss: 2.0099 - lr: 0.0010\n",
            "Epoch 27/200\n",
            "6/6 [==============================] - 0s 3ms/step - loss: 3.1146 - lr: 0.0010\n",
            "Epoch 28/200\n",
            "6/6 [==============================] - 0s 8ms/step - loss: 2.2979 - lr: 0.0010\n",
            "Epoch 29/200\n",
            "6/6 [==============================] - 0s 4ms/step - loss: 1.4317 - lr: 0.0010\n",
            "Epoch 30/200\n",
            "6/6 [==============================] - 0s 3ms/step - loss: 1.2534 - lr: 0.0010\n",
            "Epoch 31/200\n",
            "6/6 [==============================] - 0s 4ms/step - loss: 1.0760 - lr: 0.0010\n",
            "Epoch 32/200\n",
            "6/6 [==============================] - 0s 4ms/step - loss: 1.1455 - lr: 0.0010\n",
            "Epoch 33/200\n",
            "6/6 [==============================] - 0s 7ms/step - loss: 0.9234 - lr: 0.0010\n",
            "Epoch 34/200\n",
            "6/6 [==============================] - 0s 4ms/step - loss: 0.8976 - lr: 0.0010\n",
            "Epoch 35/200\n",
            "6/6 [==============================] - 0s 3ms/step - loss: 0.9397 - lr: 0.0010\n",
            "Epoch 36/200\n",
            "6/6 [==============================] - 0s 3ms/step - loss: 0.8950 - lr: 0.0010\n",
            "Epoch 37/200\n",
            "6/6 [==============================] - 0s 4ms/step - loss: 0.8848 - lr: 0.0010\n",
            "Epoch 38/200\n",
            "6/6 [==============================] - 0s 4ms/step - loss: 0.9026 - lr: 0.0010\n",
            "Epoch 39/200\n",
            "6/6 [==============================] - 0s 4ms/step - loss: 1.0643 - lr: 0.0010\n",
            "Epoch 40/200\n",
            "6/6 [==============================] - 0s 5ms/step - loss: 1.1361 - lr: 0.0010\n",
            "Epoch 41/200\n",
            "6/6 [==============================] - 0s 5ms/step - loss: 0.9922 - lr: 0.0010\n",
            "Epoch 42/200\n",
            "6/6 [==============================] - 0s 12ms/step - loss: 0.9570 - lr: 0.0010\n",
            "Epoch 43/200\n",
            "6/6 [==============================] - 0s 5ms/step - loss: 1.1099 - lr: 0.0010\n",
            "Epoch 44/200\n",
            "6/6 [==============================] - 0s 6ms/step - loss: 1.0790 - lr: 0.0010\n",
            "Epoch 45/200\n",
            "6/6 [==============================] - 0s 7ms/step - loss: 1.1217 - lr: 0.0010\n",
            "Epoch 46/200\n",
            "6/6 [==============================] - 0s 5ms/step - loss: 1.1701 - lr: 0.0010\n",
            "Epoch 47/200\n",
            "6/6 [==============================] - 0s 4ms/step - loss: 1.0716 - lr: 0.0010\n",
            "Epoch 48/200\n",
            "6/6 [==============================] - 0s 4ms/step - loss: 1.7218 - lr: 0.0010\n",
            "Epoch 49/200\n",
            "6/6 [==============================] - 0s 5ms/step - loss: 1.2361 - lr: 0.0010\n",
            "Epoch 50/200\n",
            "6/6 [==============================] - 0s 6ms/step - loss: 1.2889 - lr: 0.0010\n",
            "Epoch 51/200\n",
            "6/6 [==============================] - 0s 4ms/step - loss: 1.0691 - lr: 1.0000e-04\n",
            "Epoch 52/200\n",
            "6/6 [==============================] - 0s 5ms/step - loss: 1.9383 - lr: 1.0000e-04\n",
            "Epoch 53/200\n",
            "6/6 [==============================] - 0s 5ms/step - loss: 1.1142 - lr: 1.0000e-04\n",
            "Epoch 54/200\n",
            "6/6 [==============================] - 0s 4ms/step - loss: 0.9275 - lr: 1.0000e-04\n",
            "Epoch 55/200\n",
            "6/6 [==============================] - 0s 5ms/step - loss: 0.9946 - lr: 1.0000e-04\n",
            "Epoch 56/200\n",
            "6/6 [==============================] - 0s 3ms/step - loss: 0.8846 - lr: 1.0000e-04\n",
            "Epoch 57/200\n",
            "6/6 [==============================] - 0s 6ms/step - loss: 0.8792 - lr: 1.0000e-04\n",
            "Epoch 58/200\n",
            "6/6 [==============================] - 0s 4ms/step - loss: 0.8980 - lr: 1.0000e-04\n",
            "Epoch 59/200\n",
            "6/6 [==============================] - 0s 10ms/step - loss: 0.9032 - lr: 1.0000e-04\n",
            "Epoch 60/200\n",
            "6/6 [==============================] - 0s 3ms/step - loss: 0.8775 - lr: 1.0000e-04\n",
            "Epoch 61/200\n",
            "6/6 [==============================] - 0s 4ms/step - loss: 0.8751 - lr: 1.0000e-04\n",
            "Epoch 62/200\n",
            "6/6 [==============================] - 0s 4ms/step - loss: 0.8731 - lr: 1.0000e-04\n",
            "Epoch 63/200\n",
            "6/6 [==============================] - 0s 4ms/step - loss: 0.8728 - lr: 1.0000e-04\n",
            "Epoch 64/200\n",
            "6/6 [==============================] - 0s 5ms/step - loss: 0.8748 - lr: 1.0000e-04\n",
            "Epoch 65/200\n",
            "6/6 [==============================] - 0s 5ms/step - loss: 0.8747 - lr: 1.0000e-04\n",
            "Epoch 66/200\n",
            "6/6 [==============================] - 0s 5ms/step - loss: 0.8723 - lr: 1.0000e-04\n",
            "Epoch 67/200\n",
            "6/6 [==============================] - 0s 4ms/step - loss: 0.8893 - lr: 1.0000e-04\n",
            "Epoch 68/200\n",
            "6/6 [==============================] - 0s 4ms/step - loss: 0.8847 - lr: 1.0000e-04\n",
            "Epoch 69/200\n",
            "6/6 [==============================] - 0s 4ms/step - loss: 0.8760 - lr: 1.0000e-04\n",
            "Epoch 70/200\n",
            "6/6 [==============================] - 0s 5ms/step - loss: 0.8733 - lr: 1.0000e-04\n",
            "Epoch 71/200\n",
            "6/6 [==============================] - 0s 4ms/step - loss: 0.8723 - lr: 1.0000e-04\n",
            "Epoch 72/200\n",
            "6/6 [==============================] - 0s 6ms/step - loss: 0.8784 - lr: 1.0000e-04\n",
            "Epoch 73/200\n",
            "6/6 [==============================] - 0s 4ms/step - loss: 0.8799 - lr: 1.0000e-04\n",
            "Epoch 74/200\n",
            "6/6 [==============================] - 0s 5ms/step - loss: 0.8766 - lr: 1.0000e-04\n",
            "Epoch 75/200\n",
            "6/6 [==============================] - 0s 4ms/step - loss: 0.8765 - lr: 1.0000e-04\n",
            "Epoch 76/200\n",
            "6/6 [==============================] - 0s 6ms/step - loss: 0.8750 - lr: 1.0000e-04\n",
            "Epoch 77/200\n",
            "6/6 [==============================] - 0s 3ms/step - loss: 0.8765 - lr: 1.0000e-04\n",
            "Epoch 78/200\n",
            "6/6 [==============================] - 0s 3ms/step - loss: 0.8883 - lr: 1.0000e-04\n",
            "Epoch 79/200\n",
            "6/6 [==============================] - 0s 3ms/step - loss: 0.8836 - lr: 1.0000e-04\n",
            "Epoch 80/200\n",
            "6/6 [==============================] - 0s 3ms/step - loss: 0.8714 - lr: 1.0000e-04\n",
            "Epoch 81/200\n",
            "6/6 [==============================] - 0s 3ms/step - loss: 0.8758 - lr: 1.0000e-04\n",
            "Epoch 82/200\n",
            "6/6 [==============================] - 0s 6ms/step - loss: 0.8757 - lr: 1.0000e-04\n",
            "Epoch 83/200\n",
            "6/6 [==============================] - 0s 5ms/step - loss: 0.8774 - lr: 1.0000e-04\n",
            "Epoch 84/200\n",
            "6/6 [==============================] - 0s 4ms/step - loss: 0.8721 - lr: 1.0000e-04\n",
            "Epoch 85/200\n",
            "6/6 [==============================] - 0s 3ms/step - loss: 0.8720 - lr: 1.0000e-04\n",
            "Epoch 86/200\n",
            "6/6 [==============================] - 0s 4ms/step - loss: 0.8725 - lr: 1.0000e-04\n",
            "Epoch 87/200\n",
            "6/6 [==============================] - 0s 3ms/step - loss: 0.8730 - lr: 1.0000e-04\n",
            "Epoch 88/200\n",
            "6/6 [==============================] - 0s 7ms/step - loss: 0.8777 - lr: 1.0000e-04\n",
            "Epoch 89/200\n",
            "6/6 [==============================] - 0s 5ms/step - loss: 0.8745 - lr: 1.0000e-04\n",
            "Epoch 90/200\n",
            "6/6 [==============================] - 0s 6ms/step - loss: 0.8710 - lr: 1.0000e-04\n",
            "Epoch 91/200\n",
            "6/6 [==============================] - 0s 4ms/step - loss: 0.8716 - lr: 1.0000e-04\n",
            "Epoch 92/200\n",
            "6/6 [==============================] - 0s 4ms/step - loss: 0.8806 - lr: 1.0000e-04\n",
            "Epoch 93/200\n",
            "6/6 [==============================] - 0s 4ms/step - loss: 0.8949 - lr: 1.0000e-04\n",
            "Epoch 94/200\n",
            "6/6 [==============================] - 0s 4ms/step - loss: 0.9095 - lr: 1.0000e-04\n",
            "Epoch 95/200\n",
            "6/6 [==============================] - 0s 4ms/step - loss: 0.8803 - lr: 1.0000e-04\n",
            "Epoch 96/200\n",
            "6/6 [==============================] - 0s 8ms/step - loss: 0.8795 - lr: 1.0000e-04\n",
            "Epoch 97/200\n",
            "6/6 [==============================] - 0s 6ms/step - loss: 0.8705 - lr: 1.0000e-04\n",
            "Epoch 98/200\n",
            "6/6 [==============================] - 0s 8ms/step - loss: 0.8909 - lr: 1.0000e-04\n",
            "Epoch 99/200\n",
            "6/6 [==============================] - 0s 3ms/step - loss: 0.8894 - lr: 1.0000e-04\n",
            "Epoch 100/200\n",
            "6/6 [==============================] - 0s 4ms/step - loss: 0.8716 - lr: 1.0000e-04\n",
            "Epoch 101/200\n",
            "6/6 [==============================] - 0s 4ms/step - loss: 0.8722 - lr: 1.0000e-04\n",
            "Epoch 102/200\n",
            "6/6 [==============================] - 0s 5ms/step - loss: 0.8745 - lr: 1.0000e-04\n",
            "Epoch 103/200\n",
            "6/6 [==============================] - 0s 6ms/step - loss: 0.8731 - lr: 1.0000e-04\n",
            "Epoch 104/200\n",
            "6/6 [==============================] - 0s 7ms/step - loss: 0.8951 - lr: 1.0000e-04\n",
            "Epoch 105/200\n",
            "6/6 [==============================] - 0s 6ms/step - loss: 0.9117 - lr: 1.0000e-04\n",
            "Epoch 106/200\n",
            "6/6 [==============================] - 0s 7ms/step - loss: 0.8662 - lr: 1.0000e-04\n",
            "Epoch 107/200\n",
            "6/6 [==============================] - 0s 4ms/step - loss: 0.8753 - lr: 1.0000e-04\n",
            "Epoch 108/200\n",
            "6/6 [==============================] - 0s 5ms/step - loss: 0.9024 - lr: 1.0000e-04\n",
            "Epoch 109/200\n",
            "6/6 [==============================] - 0s 7ms/step - loss: 0.8762 - lr: 1.0000e-04\n",
            "Epoch 110/200\n",
            "6/6 [==============================] - 0s 10ms/step - loss: 0.8803 - lr: 1.0000e-04\n",
            "Epoch 111/200\n",
            "6/6 [==============================] - 0s 10ms/step - loss: 0.8839 - lr: 1.0000e-04\n",
            "Epoch 112/200\n",
            "6/6 [==============================] - 0s 7ms/step - loss: 0.8675 - lr: 1.0000e-04\n",
            "Epoch 113/200\n",
            "6/6 [==============================] - 0s 15ms/step - loss: 0.8799 - lr: 1.0000e-04\n",
            "Epoch 114/200\n",
            "6/6 [==============================] - 0s 7ms/step - loss: 0.8775 - lr: 1.0000e-04\n",
            "Epoch 115/200\n",
            "6/6 [==============================] - 0s 8ms/step - loss: 0.8757 - lr: 1.0000e-04\n",
            "Epoch 116/200\n",
            "6/6 [==============================] - 0s 10ms/step - loss: 0.8719 - lr: 1.0000e-04\n",
            "Epoch 117/200\n",
            "6/6 [==============================] - 0s 9ms/step - loss: 0.8723 - lr: 1.0000e-04\n",
            "Epoch 118/200\n",
            "6/6 [==============================] - 0s 9ms/step - loss: 0.8730 - lr: 1.0000e-04\n",
            "Epoch 119/200\n",
            "6/6 [==============================] - 0s 13ms/step - loss: 0.8828 - lr: 1.0000e-04\n",
            "Epoch 120/200\n",
            "6/6 [==============================] - 0s 5ms/step - loss: 0.8768 - lr: 1.0000e-04\n",
            "Epoch 121/200\n",
            "6/6 [==============================] - 0s 6ms/step - loss: 0.8724 - lr: 1.0000e-04\n",
            "Epoch 122/200\n",
            "6/6 [==============================] - 0s 8ms/step - loss: 0.8749 - lr: 1.0000e-04\n",
            "Epoch 123/200\n",
            "6/6 [==============================] - 0s 6ms/step - loss: 0.8844 - lr: 1.0000e-04\n",
            "Epoch 124/200\n",
            "6/6 [==============================] - 0s 9ms/step - loss: 0.8780 - lr: 1.0000e-04\n",
            "Epoch 125/200\n",
            "6/6 [==============================] - 0s 7ms/step - loss: 0.8742 - lr: 1.0000e-04\n",
            "Epoch 126/200\n",
            "6/6 [==============================] - 0s 6ms/step - loss: 0.8716 - lr: 1.0000e-04\n",
            "Epoch 127/200\n",
            "6/6 [==============================] - 0s 6ms/step - loss: 0.9316 - lr: 1.0000e-04\n",
            "Epoch 128/200\n",
            "6/6 [==============================] - 0s 9ms/step - loss: 0.9727 - lr: 1.0000e-04\n",
            "Epoch 129/200\n",
            "6/6 [==============================] - 0s 5ms/step - loss: 0.8917 - lr: 1.0000e-04\n",
            "Epoch 130/200\n",
            "6/6 [==============================] - 0s 5ms/step - loss: 0.8978 - lr: 1.0000e-04\n",
            "Epoch 131/200\n",
            "6/6 [==============================] - 0s 6ms/step - loss: 0.9069 - lr: 1.0000e-04\n",
            "Epoch 132/200\n",
            "6/6 [==============================] - 0s 4ms/step - loss: 0.8717 - lr: 1.0000e-04\n",
            "Epoch 133/200\n",
            "6/6 [==============================] - 0s 5ms/step - loss: 0.8750 - lr: 1.0000e-04\n",
            "Epoch 134/200\n",
            "6/6 [==============================] - 0s 5ms/step - loss: 0.8775 - lr: 1.0000e-04\n",
            "Epoch 135/200\n",
            "6/6 [==============================] - 0s 7ms/step - loss: 0.8776 - lr: 1.0000e-04\n",
            "Epoch 136/200\n",
            "6/6 [==============================] - 0s 5ms/step - loss: 0.8802 - lr: 1.0000e-04\n",
            "Epoch 137/200\n",
            "6/6 [==============================] - 0s 5ms/step - loss: 0.8746 - lr: 1.0000e-04\n",
            "Epoch 138/200\n",
            "6/6 [==============================] - 0s 5ms/step - loss: 0.8729 - lr: 1.0000e-04\n",
            "Epoch 139/200\n",
            "6/6 [==============================] - 0s 5ms/step - loss: 0.8709 - lr: 1.0000e-04\n",
            "Epoch 140/200\n",
            "6/6 [==============================] - 0s 5ms/step - loss: 0.8905 - lr: 1.0000e-04\n",
            "Epoch 141/200\n",
            "6/6 [==============================] - 0s 5ms/step - loss: 0.8838 - lr: 1.0000e-04\n",
            "Epoch 142/200\n",
            "6/6 [==============================] - 0s 9ms/step - loss: 0.8728 - lr: 1.0000e-04\n",
            "Epoch 143/200\n",
            "6/6 [==============================] - 0s 8ms/step - loss: 0.8724 - lr: 1.0000e-04\n",
            "Epoch 144/200\n",
            "6/6 [==============================] - 0s 5ms/step - loss: 0.8728 - lr: 1.0000e-04\n",
            "Epoch 145/200\n",
            "6/6 [==============================] - 0s 5ms/step - loss: 0.8724 - lr: 1.0000e-04\n",
            "Epoch 146/200\n",
            "6/6 [==============================] - 0s 6ms/step - loss: 0.8716 - lr: 1.0000e-04\n",
            "Epoch 147/200\n",
            "6/6 [==============================] - 0s 6ms/step - loss: 0.8718 - lr: 1.0000e-04\n",
            "Epoch 148/200\n",
            "6/6 [==============================] - 0s 8ms/step - loss: 0.8780 - lr: 1.0000e-04\n",
            "Epoch 149/200\n",
            "6/6 [==============================] - 0s 7ms/step - loss: 0.8755 - lr: 1.0000e-04\n",
            "Epoch 150/200\n",
            "6/6 [==============================] - 0s 9ms/step - loss: 0.8808 - lr: 1.0000e-04\n",
            "Epoch 151/200\n",
            "6/6 [==============================] - 0s 10ms/step - loss: 0.8749 - lr: 1.0000e-04\n",
            "Epoch 152/200\n",
            "6/6 [==============================] - 0s 8ms/step - loss: 0.8705 - lr: 1.0000e-04\n",
            "Epoch 153/200\n",
            "6/6 [==============================] - 0s 9ms/step - loss: 0.8786 - lr: 1.0000e-04\n",
            "Epoch 154/200\n",
            "6/6 [==============================] - 0s 6ms/step - loss: 0.8819 - lr: 1.0000e-04\n",
            "Epoch 155/200\n",
            "6/6 [==============================] - 0s 6ms/step - loss: 0.8713 - lr: 1.0000e-04\n",
            "Epoch 156/200\n",
            "6/6 [==============================] - 0s 6ms/step - loss: 0.8787 - lr: 1.0000e-04\n",
            "Epoch 157/200\n",
            "6/6 [==============================] - 0s 6ms/step - loss: 0.8823 - lr: 1.0000e-04\n",
            "Epoch 158/200\n",
            "6/6 [==============================] - 0s 6ms/step - loss: 0.8735 - lr: 1.0000e-04\n",
            "Epoch 159/200\n",
            "6/6 [==============================] - 0s 6ms/step - loss: 0.8722 - lr: 1.0000e-04\n",
            "Epoch 160/200\n",
            "6/6 [==============================] - 0s 5ms/step - loss: 0.8782 - lr: 1.0000e-04\n",
            "Epoch 161/200\n",
            "6/6 [==============================] - 0s 9ms/step - loss: 0.8773 - lr: 1.0000e-04\n",
            "Epoch 162/200\n",
            "6/6 [==============================] - 0s 7ms/step - loss: 0.8680 - lr: 1.0000e-04\n",
            "Epoch 163/200\n",
            "6/6 [==============================] - 0s 5ms/step - loss: 0.8746 - lr: 1.0000e-04\n",
            "Epoch 164/200\n",
            "6/6 [==============================] - 0s 4ms/step - loss: 0.8824 - lr: 1.0000e-04\n",
            "Epoch 165/200\n",
            "6/6 [==============================] - 0s 8ms/step - loss: 0.8828 - lr: 1.0000e-04\n",
            "Epoch 166/200\n",
            "6/6 [==============================] - 0s 5ms/step - loss: 0.8799 - lr: 1.0000e-04\n",
            "Epoch 167/200\n",
            "6/6 [==============================] - 0s 4ms/step - loss: 0.8653 - lr: 1.0000e-04\n",
            "Epoch 168/200\n",
            "6/6 [==============================] - 0s 5ms/step - loss: 0.8987 - lr: 1.0000e-04\n",
            "Epoch 169/200\n",
            "6/6 [==============================] - 0s 5ms/step - loss: 0.8848 - lr: 1.0000e-04\n",
            "Epoch 170/200\n",
            "6/6 [==============================] - 0s 4ms/step - loss: 0.8733 - lr: 1.0000e-04\n",
            "Epoch 171/200\n",
            "6/6 [==============================] - 0s 4ms/step - loss: 0.8909 - lr: 1.0000e-04\n",
            "Epoch 172/200\n",
            "6/6 [==============================] - 0s 5ms/step - loss: 0.8838 - lr: 1.0000e-04\n",
            "Epoch 173/200\n",
            "6/6 [==============================] - 0s 4ms/step - loss: 0.8793 - lr: 1.0000e-04\n",
            "Epoch 174/200\n",
            "6/6 [==============================] - 0s 3ms/step - loss: 0.8720 - lr: 1.0000e-04\n",
            "Epoch 175/200\n",
            "6/6 [==============================] - 0s 3ms/step - loss: 0.8780 - lr: 1.0000e-04\n",
            "Epoch 176/200\n",
            "6/6 [==============================] - 0s 7ms/step - loss: 0.8732 - lr: 1.0000e-04\n",
            "Epoch 177/200\n",
            "6/6 [==============================] - 0s 4ms/step - loss: 0.8836 - lr: 1.0000e-04\n",
            "Epoch 178/200\n",
            "6/6 [==============================] - 0s 4ms/step - loss: 0.8846 - lr: 1.0000e-04\n",
            "Epoch 179/200\n",
            "6/6 [==============================] - 0s 6ms/step - loss: 0.8799 - lr: 1.0000e-04\n",
            "Epoch 180/200\n",
            "6/6 [==============================] - 0s 4ms/step - loss: 0.8867 - lr: 1.0000e-04\n",
            "Epoch 181/200\n",
            "6/6 [==============================] - 0s 6ms/step - loss: 0.8932 - lr: 1.0000e-04\n",
            "Epoch 182/200\n",
            "6/6 [==============================] - 0s 3ms/step - loss: 0.8839 - lr: 1.0000e-04\n",
            "Epoch 183/200\n",
            "6/6 [==============================] - 0s 6ms/step - loss: 0.8715 - lr: 1.0000e-04\n",
            "Epoch 184/200\n",
            "6/6 [==============================] - 0s 5ms/step - loss: 0.8707 - lr: 1.0000e-04\n",
            "Epoch 185/200\n",
            "6/6 [==============================] - 0s 5ms/step - loss: 0.8810 - lr: 1.0000e-04\n",
            "Epoch 186/200\n",
            "6/6 [==============================] - 0s 6ms/step - loss: 0.8832 - lr: 1.0000e-04\n",
            "Epoch 187/200\n",
            "6/6 [==============================] - 0s 6ms/step - loss: 0.8735 - lr: 1.0000e-04\n",
            "Epoch 188/200\n",
            "6/6 [==============================] - 0s 6ms/step - loss: 0.8721 - lr: 1.0000e-04\n",
            "Epoch 189/200\n",
            "6/6 [==============================] - 0s 7ms/step - loss: 0.8743 - lr: 1.0000e-04\n",
            "Epoch 190/200\n",
            "6/6 [==============================] - 0s 6ms/step - loss: 0.8733 - lr: 1.0000e-04\n",
            "Epoch 191/200\n",
            "6/6 [==============================] - 0s 6ms/step - loss: 0.8842 - lr: 1.0000e-04\n",
            "Epoch 192/200\n",
            "6/6 [==============================] - 0s 9ms/step - loss: 0.8794 - lr: 1.0000e-04\n",
            "Epoch 193/200\n",
            "6/6 [==============================] - 0s 8ms/step - loss: 0.8709 - lr: 1.0000e-04\n",
            "Epoch 194/200\n",
            "6/6 [==============================] - 0s 16ms/step - loss: 0.8712 - lr: 1.0000e-04\n",
            "Epoch 195/200\n",
            "6/6 [==============================] - 0s 8ms/step - loss: 0.8720 - lr: 1.0000e-04\n",
            "Epoch 196/200\n",
            "6/6 [==============================] - 0s 4ms/step - loss: 0.8719 - lr: 1.0000e-04\n",
            "Epoch 197/200\n",
            "6/6 [==============================] - 0s 4ms/step - loss: 0.8712 - lr: 1.0000e-04\n",
            "Epoch 198/200\n",
            "6/6 [==============================] - 0s 9ms/step - loss: 0.8747 - lr: 1.0000e-04\n",
            "Epoch 199/200\n",
            "6/6 [==============================] - 0s 3ms/step - loss: 0.8712 - lr: 1.0000e-04\n",
            "Epoch 200/200\n",
            "6/6 [==============================] - 0s 8ms/step - loss: 0.8723 - lr: 1.0000e-04\n"
          ]
        }
      ],
      "source": [
        "#train the model\n",
        "r = model.fit(X,Y, epochs = 200, callbacks = [schedule] )"
      ]
    },
    {
      "cell_type": "code",
      "execution_count": null,
      "metadata": {
        "colab": {
          "base_uri": "https://localhost:8080/",
          "height": 430
        },
        "id": "NhGaajgp051w",
        "outputId": "f1fd9a13-3ed3-440f-a3f6-0d1b1996d09d"
      },
      "outputs": [
        {
          "output_type": "display_data",
          "data": {
            "text/plain": [
              "<Figure size 640x480 with 1 Axes>"
            ],
            "image/png": "[encoded data removed]"
          },
          "metadata": {}
        }
      ],
      "source": [
        "#plot the loss\n",
        "plt.plot(r.history['loss'], label = 'loss')\n",
        "plt.legend();"
      ]
    },
    {
      "cell_type": "code",
      "execution_count": null,
      "metadata": {
        "id": "zr4kSFuW2sRS",
        "colab": {
          "base_uri": "https://localhost:8080/"
        },
        "outputId": "60de59aa-2471-4e5c-8196-ec70dc4bc86f"
      },
      "outputs": [
        {
          "output_type": "execute_result",
          "data": {
            "text/plain": [
              "[<keras.layers.core.dense.Dense at 0x7e4f75080280>]"
            ]
          },
          "metadata": {},
          "execution_count": 29
        }
      ],
      "source": [
        "model.layers"
      ]
    },
    {
      "cell_type": "code",
      "source": [
        "model.layers[0].get_weights()"
      ],
      "metadata": {
        "colab": {
          "base_uri": "https://localhost:8080/"
        },
        "id": "i70QyHMj4LbQ",
        "outputId": "4f2f1aba-255f-47d5-af6f-6173c1066953"
      },
      "execution_count": null,
      "outputs": [
        {
          "output_type": "execute_result",
          "data": {
            "text/plain": [
              "[array([[0.33428365]], dtype=float32), array([17.749022], dtype=float32)]"
            ]
          },
          "metadata": {},
          "execution_count": 30
        }
      ]
    },
    {
      "cell_type": "code",
      "source": [
        "a = model.layers[0].get_weights()[0][0,0]\n",
        "#rate of growth\n",
        "r = np.exp(a)\n",
        "\n",
        "print(\"Time to double: \", np.log(2)/a) #without scaling\n"
      ],
      "metadata": {
        "colab": {
          "base_uri": "https://localhost:8080/"
        },
        "id": "ZOGvlxnW4RHf",
        "outputId": "f6772a7b-3a0e-4fea-af87-410423ea898e"
      },
      "execution_count": null,
      "outputs": [
        {
          "output_type": "stream",
          "name": "stdout",
          "text": [
            "Time to double:  2.0735300117815783\n"
          ]
        }
      ]
    },
    {
      "cell_type": "code",
      "source": [
        "#alternative\n",
        "X= X.flatten()\n",
        "denominator = X.dot(X) - X.mean() * X.sum()\n",
        "a = (X.dot(Y) - X.mean() * X.sum()) / denominator\n",
        "b = ( Y.mean() * X.dot(X) - X.mean() * X.dot(Y) ) /denominator\n",
        "print(a)\n",
        "print(b)\n",
        "print(\"Time to double: \", np.log(2)/a)"
      ],
      "metadata": {
        "colab": {
          "base_uri": "https://localhost:8080/"
        },
        "id": "HjT6mu0Y4eFd",
        "outputId": "b70a0e01-82eb-41d1-e486-18e9bad745b9"
      },
      "execution_count": null,
      "outputs": [
        {
          "output_type": "stream",
          "name": "stdout",
          "text": [
            "0.3416824873873197\n",
            "17.764939393631764\n",
            "Time to double:  2.0286295205238805\n"
          ]
        }
      ]
    },
    {
      "cell_type": "markdown",
      "source": [
        "###PART-3: REVISION PREDICTIONS"
      ],
      "metadata": {
        "id": "eOlm9xLafFnB"
      }
    },
    {
      "cell_type": "code",
      "source": [
        "#making predictions\n",
        "# X = np.array(X).flatten()\n",
        "P = model.predict(X).flatten()\n",
        "plt.scatter(X,Y)\n",
        "plt.plot(X, P)\n",
        "# print(P)"
      ],
      "metadata": {
        "colab": {
          "base_uri": "https://localhost:8080/",
          "height": 464
        },
        "id": "wFxTgc4gfJcR",
        "outputId": "5b900ad6-51c9-4a50-daa7-87febb5752e7"
      },
      "execution_count": null,
      "outputs": [
        {
          "output_type": "stream",
          "name": "stdout",
          "text": [
            "6/6 [==============================] - 0s 5ms/step\n"
          ]
        },
        {
          "output_type": "execute_result",
          "data": {
            "text/plain": [
              "[<matplotlib.lines.Line2D at 0x7e4f71eabc70>]"
            ]
          },
          "metadata": {},
          "execution_count": 33
        },
        {
          "output_type": "display_data",
          "data": {
            "text/plain": [
              "<Figure size 640x480 with 1 Axes>"
            ],
            "image/png": "[encoded data removed]"
          },
          "metadata": {}
        }
      ]
    },
    {
      "cell_type": "code",
      "source": [
        "#rounding and flattening predictions\n",
        "# Pr = np.round(P).flatten() #-> for classification\n",
        "# print(Pr)x"
      ],
      "metadata": {
        "id": "fq_snKTzfj2Y"
      },
      "execution_count": null,
      "outputs": []
    },
    {
      "cell_type": "code",
      "source": [
        "#manually calculating prediction\n",
        "\n",
        "#np.mean(P == Y_test) #for classification\n",
        "\n",
        "#for regression\n",
        "# Manual calculation\n",
        "\n",
        "# Get the weights\n",
        "w, b = model.layers[0].get_weights()\n",
        "\n",
        "# Reshape X because we flattened it again earlier\n",
        "X = X.reshape(-1, 1)\n",
        "\n",
        "# (N x 1) x (1 x 1) + (1) --> (N x 1)\n",
        "P2 = (X.dot(w) + b).flatten()\n",
        "\n",
        "# Don't use == for floating points\n",
        "np.allclose(P, P2)"
      ],
      "metadata": {
        "colab": {
          "base_uri": "https://localhost:8080/"
        },
        "id": "-ANPlXfWmwzO",
        "outputId": "012ffbf3-3a29-41f3-fb53-0a208d9b42dd"
      },
      "execution_count": null,
      "outputs": [
        {
          "output_type": "execute_result",
          "data": {
            "text/plain": [
              "True"
            ]
          },
          "metadata": {},
          "execution_count": 35
        }
      ]
    },
    {
      "cell_type": "code",
      "source": [
        "#evaluate\n",
        "#print(\"Evaluate output: \", model.evaluate(X_test, Y_test))"
      ],
      "metadata": {
        "id": "ssNCb3DwrZGX"
      },
      "execution_count": null,
      "outputs": []
    },
    {
      "cell_type": "code",
      "source": [
        "##SAVING and LOADING A MODEL\n",
        "model.save('test.h5')\n",
        "\n"
      ],
      "metadata": {
        "id": "0hN-lNdkuvUD"
      },
      "execution_count": null,
      "outputs": []
    },
    {
      "cell_type": "code",
      "source": [
        "!ls -lh"
      ],
      "metadata": {
        "colab": {
          "base_uri": "https://localhost:8080/"
        },
        "id": "HH2xSis4yiT_",
        "outputId": "2f6bef37-4605-4137-e60b-e820193ccf43"
      },
      "execution_count": null,
      "outputs": [
        {
          "output_type": "stream",
          "name": "stdout",
          "text": [
            "total 28K\n",
            "-rw-r--r-- 1 root root 2.3K Aug  4 13:27 moore.csv\n",
            "drwxr-xr-x 1 root root 4.0K Aug  2 13:34 sample_data\n",
            "-rw-r--r-- 1 root root  18K Aug  4 13:27 test.h5\n"
          ]
        }
      ]
    },
    {
      "cell_type": "code",
      "source": [
        "#loading (in Keras - load/save have bugs when Input() layer is not used explicitly)\n",
        "model = tf.keras.models.load_model('test.h5')\n",
        "print(model.layers)\n",
        "# model.evaluate(X_test, Y_test)"
      ],
      "metadata": {
        "colab": {
          "base_uri": "https://localhost:8080/"
        },
        "id": "EFpzy-OZy2ZJ",
        "outputId": "813b695b-e024-4d26-c5c3-d35aff68032b"
      },
      "execution_count": null,
      "outputs": [
        {
          "output_type": "stream",
          "name": "stdout",
          "text": [
            "[<keras.layers.core.dense.Dense object at 0x7e4f71d47670>]\n"
          ]
        }
      ]
    },
    {
      "cell_type": "code",
      "source": [
        "from google.colab import files\n",
        "files.download('test.h5')"
      ],
      "metadata": {
        "colab": {
          "base_uri": "https://localhost:8080/",
          "height": 17
        },
        "id": "BNX7qKBHziHZ",
        "outputId": "6e7b8c96-c721-44c5-ac9c-e9db68dee386"
      },
      "execution_count": null,
      "outputs": [
        {
          "output_type": "display_data",
          "data": {
            "text/plain": [
              "<IPython.core.display.Javascript object>"
            ],
            "application/javascript": [
              "\n",
              "    async function download(id, filename, size) {\n",
              "      if (!google.colab.kernel.accessAllowed) {\n",
              "        return;\n",
              "      }\n",
              "      const div = document.createElement('div');\n",
              "      const label = document.createElement('label');\n",
              "      label.textContent = `Downloading \"${filename}\": `;\n",
              "      div.appendChild(label);\n",
              "      const progress = document.createElement('progress');\n",
              "      progress.max = size;\n",
              "      div.appendChild(progress);\n",
              "      document.body.appendChild(div);\n",
              "\n",
              "      const buffers = [];\n",
              "      let downloaded = 0;\n",
              "\n",
              "      const channel = await google.colab.kernel.comms.open(id);\n",
              "      // Send a message to notify the kernel that we're ready.\n",
              "      channel.send({})\n",
              "\n",
              "      for await (const message of channel.messages) {\n",
              "        // Send a message to notify the kernel that we're ready.\n",
              "        channel.send({})\n",
              "        if (message.buffers) {\n",
              "          for (const buffer of message.buffers) {\n",
              "            buffers.push(buffer);\n",
              "            downloaded += buffer.byteLength;\n",
              "            progress.value = downloaded;\n",
              "          }\n",
              "        }\n",
              "      }\n",
              "      const blob = new Blob(buffers, {type: 'application/binary'});\n",
              "      const a = document.createElement('a');\n",
              "      a.href = window.URL.createObjectURL(blob);\n",
              "      a.download = filename;\n",
              "      div.appendChild(a);\n",
              "      a.click();\n",
              "      div.remove();\n",
              "    }\n",
              "  "
            ]
          },
          "metadata": {}
        },
        {
          "output_type": "display_data",
          "data": {
            "text/plain": [
              "<IPython.core.display.Javascript object>"
            ],
            "application/javascript": [
              "download(\"download_679ae2e7-5648-479f-8200-a88cc016ea90\", \"test.h5\", 17600)"
            ]
          },
          "metadata": {}
        }
      ]
    },
    {
      "cell_type": "code",
      "source": [],
      "metadata": {
        "id": "sKFvXXNn04Ya"
      },
      "execution_count": null,
      "outputs": []
    },
    {
      "cell_type": "markdown",
      "source": [
        "###AUTOREGRESSIVE MODEL (Linear Regression Forecating Model)\n",
        "\n"
      ],
      "metadata": {
        "id": "AOOpycY3g6Tx"
      }
    },
    {
      "cell_type": "code",
      "source": [
        "from tensorflow.keras.layers import Input, Dense\n",
        "from tensorflow.keras.models import Model\n",
        "from tensorflow.keras.optimizers import SGD, Adam\n",
        "import pandas as pd\n",
        "import numpy as np\n",
        "import matplotlib.pyplot as plt"
      ],
      "metadata": {
        "id": "BcubPkuNhHeL"
      },
      "execution_count": null,
      "outputs": []
    },
    {
      "cell_type": "code",
      "source": [
        "#making the series\n",
        "series = np.sin(0.1 * np.arange(200)) #+ np.random.rand(200)*0.1\n",
        "plt.plot(series)\n",
        "plt.show()"
      ],
      "metadata": {
        "colab": {
          "base_uri": "https://localhost:8080/",
          "height": 430
        },
        "id": "0YInLKBrhrBO",
        "outputId": "5a6a4370-495d-49c6-c8ba-9260ba9e07f8"
      },
      "execution_count": null,
      "outputs": [
        {
          "output_type": "display_data",
          "data": {
            "text/plain": [
              "<Figure size 640x480 with 1 Axes>"
            ],
            "image/png": "[encoded data removed]"
          },
          "metadata": {}
        }
      ]
    },
    {
      "cell_type": "code",
      "source": [
        "#building dataset\n",
        "# final target index: len(series) - 1\n",
        "T = 10 # we are using 10 previous time stamps\n",
        "X = []\n",
        "Y = []\n",
        "for time in range(len(series) - T):\n",
        "  x = series[time : time + T]\n",
        "  X.append(x)\n",
        "  y = series[time + T]\n",
        "  Y.append(y)\n",
        "\n",
        "X = np.array(X).reshape(-1,T)\n",
        "Y = np.array(Y)\n",
        "N = len(X)\n",
        "print('X shape: ', X.shape,'\\n', 'Y.shape : ', Y.shape)\n",
        "\n"
      ],
      "metadata": {
        "colab": {
          "base_uri": "https://localhost:8080/"
        },
        "id": "L0KstGBciZ_A",
        "outputId": "6c926584-3209-4568-d90b-3053ba7326ec"
      },
      "execution_count": null,
      "outputs": [
        {
          "output_type": "stream",
          "name": "stdout",
          "text": [
            "X shape:  (190, 10) \n",
            " Y.shape :  (190,)\n"
          ]
        }
      ]
    },
    {
      "cell_type": "code",
      "source": [
        "# AR Model\n",
        "input = Input(shape=(T,))\n",
        "output = Dense (1)(input)\n",
        "model = Model(input, output)\n",
        "model.compile(\n",
        "    loss = 'mse',\n",
        "    optimizer = Adam(learning_rate=0.1),\n",
        ")"
      ],
      "metadata": {
        "id": "uyHroXfejjAb"
      },
      "execution_count": null,
      "outputs": []
    },
    {
      "cell_type": "code",
      "source": [
        "#train RNN\n",
        "r = model.fit(\n",
        "    X[:-N//2], Y[:-N//2], # splitting data is important in forecasting - model test on first set and validates on the second set\n",
        "    epochs = 80, validation_data = (X[-N//2 :], Y[-N//2 :]),\n",
        ")\n",
        "\n"
      ],
      "metadata": {
        "colab": {
          "base_uri": "https://localhost:8080/"
        },
        "id": "0PRy_qrvnbsN",
        "outputId": "886c0d31-cc7b-456e-9ef5-c476e6b20003"
      },
      "execution_count": null,
      "outputs": [
        {
          "output_type": "stream",
          "name": "stdout",
          "text": [
            "Epoch 1/80\n",
            "3/3 [==============================] - 1s 80ms/step - loss: 0.4310 - val_loss: 0.2739\n",
            "Epoch 2/80\n",
            "3/3 [==============================] - 0s 28ms/step - loss: 0.1596 - val_loss: 0.1032\n",
            "Epoch 3/80\n",
            "3/3 [==============================] - 0s 27ms/step - loss: 0.0896 - val_loss: 0.0226\n",
            "Epoch 4/80\n",
            "3/3 [==============================] - 0s 26ms/step - loss: 0.0228 - val_loss: 0.0391\n",
            "Epoch 5/80\n",
            "3/3 [==============================] - 0s 30ms/step - loss: 0.0273 - val_loss: 0.0384\n",
            "Epoch 6/80\n",
            "3/3 [==============================] - 0s 17ms/step - loss: 0.0423 - val_loss: 0.0749\n",
            "Epoch 7/80\n",
            "3/3 [==============================] - 0s 25ms/step - loss: 0.0404 - val_loss: 0.0341\n",
            "Epoch 8/80\n",
            "3/3 [==============================] - 0s 26ms/step - loss: 0.0270 - val_loss: 0.0108\n",
            "Epoch 9/80\n",
            "3/3 [==============================] - 0s 23ms/step - loss: 0.0073 - val_loss: 0.0074\n",
            "Epoch 10/80\n",
            "3/3 [==============================] - 0s 17ms/step - loss: 0.0076 - val_loss: 0.0061\n",
            "Epoch 11/80\n",
            "3/3 [==============================] - 0s 18ms/step - loss: 0.0071 - val_loss: 0.0118\n",
            "Epoch 12/80\n",
            "3/3 [==============================] - 0s 18ms/step - loss: 0.0057 - val_loss: 0.0078\n",
            "Epoch 13/80\n",
            "3/3 [==============================] - 0s 19ms/step - loss: 0.0084 - val_loss: 0.0039\n",
            "Epoch 14/80\n",
            "3/3 [==============================] - 0s 26ms/step - loss: 0.0045 - val_loss: 0.0030\n",
            "Epoch 15/80\n",
            "3/3 [==============================] - 0s 19ms/step - loss: 0.0022 - val_loss: 0.0012\n",
            "Epoch 16/80\n",
            "3/3 [==============================] - 0s 30ms/step - loss: 0.0017 - val_loss: 3.8329e-04\n",
            "Epoch 17/80\n",
            "3/3 [==============================] - 0s 19ms/step - loss: 0.0011 - val_loss: 0.0022\n",
            "Epoch 18/80\n",
            "3/3 [==============================] - 0s 18ms/step - loss: 0.0013 - val_loss: 0.0012\n",
            "Epoch 19/80\n",
            "3/3 [==============================] - 0s 18ms/step - loss: 0.0013 - val_loss: 7.4491e-04\n",
            "Epoch 20/80\n",
            "3/3 [==============================] - 0s 19ms/step - loss: 7.1139e-04 - val_loss: 3.2348e-04\n",
            "Epoch 21/80\n",
            "3/3 [==============================] - 0s 27ms/step - loss: 2.2541e-04 - val_loss: 2.9392e-04\n",
            "Epoch 22/80\n",
            "3/3 [==============================] - 0s 26ms/step - loss: 2.3343e-04 - val_loss: 4.0938e-04\n",
            "Epoch 23/80\n",
            "3/3 [==============================] - 0s 26ms/step - loss: 3.4229e-04 - val_loss: 3.1745e-04\n",
            "Epoch 24/80\n",
            "3/3 [==============================] - 0s 31ms/step - loss: 2.1393e-04 - val_loss: 1.5278e-04\n",
            "Epoch 25/80\n",
            "3/3 [==============================] - 0s 17ms/step - loss: 9.2374e-05 - val_loss: 6.6459e-05\n",
            "Epoch 26/80\n",
            "3/3 [==============================] - 0s 26ms/step - loss: 7.5762e-05 - val_loss: 7.2785e-05\n",
            "Epoch 27/80\n",
            "3/3 [==============================] - 0s 25ms/step - loss: 5.0359e-05 - val_loss: 3.2562e-05\n",
            "Epoch 28/80\n",
            "3/3 [==============================] - 0s 26ms/step - loss: 5.2035e-05 - val_loss: 6.1109e-05\n",
            "Epoch 29/80\n",
            "3/3 [==============================] - 0s 20ms/step - loss: 4.5238e-05 - val_loss: 2.9140e-05\n",
            "Epoch 30/80\n",
            "3/3 [==============================] - 0s 19ms/step - loss: 2.1750e-05 - val_loss: 1.0036e-05\n",
            "Epoch 31/80\n",
            "3/3 [==============================] - 0s 19ms/step - loss: 1.3393e-05 - val_loss: 1.3685e-05\n",
            "Epoch 32/80\n",
            "3/3 [==============================] - 0s 19ms/step - loss: 1.5962e-05 - val_loss: 9.0748e-06\n",
            "Epoch 33/80\n",
            "3/3 [==============================] - 0s 19ms/step - loss: 1.4034e-05 - val_loss: 1.5344e-05\n",
            "Epoch 34/80\n",
            "3/3 [==============================] - 0s 26ms/step - loss: 8.2954e-06 - val_loss: 4.7569e-06\n",
            "Epoch 35/80\n",
            "3/3 [==============================] - 0s 18ms/step - loss: 2.6279e-06 - val_loss: 2.3936e-06\n",
            "Epoch 36/80\n",
            "3/3 [==============================] - 0s 21ms/step - loss: 2.5558e-06 - val_loss: 6.9785e-06\n",
            "Epoch 37/80\n",
            "3/3 [==============================] - 0s 27ms/step - loss: 4.0570e-06 - val_loss: 2.8304e-06\n",
            "Epoch 38/80\n",
            "3/3 [==============================] - 0s 27ms/step - loss: 2.6471e-06 - val_loss: 9.7060e-07\n",
            "Epoch 39/80\n",
            "3/3 [==============================] - 0s 19ms/step - loss: 1.3708e-06 - val_loss: 6.2300e-07\n",
            "Epoch 40/80\n",
            "3/3 [==============================] - 0s 20ms/step - loss: 8.6534e-07 - val_loss: 9.5933e-07\n",
            "Epoch 41/80\n",
            "3/3 [==============================] - 0s 19ms/step - loss: 8.3116e-07 - val_loss: 1.6912e-06\n",
            "Epoch 42/80\n",
            "3/3 [==============================] - 0s 26ms/step - loss: 1.1463e-06 - val_loss: 6.8028e-07\n",
            "Epoch 43/80\n",
            "3/3 [==============================] - 0s 18ms/step - loss: 4.8273e-07 - val_loss: 2.5046e-07\n",
            "Epoch 44/80\n",
            "3/3 [==============================] - 0s 26ms/step - loss: 4.4265e-07 - val_loss: 2.7648e-07\n",
            "Epoch 45/80\n",
            "3/3 [==============================] - 0s 26ms/step - loss: 3.3243e-07 - val_loss: 2.7286e-07\n",
            "Epoch 46/80\n",
            "3/3 [==============================] - 0s 18ms/step - loss: 4.4168e-07 - val_loss: 3.3791e-07\n",
            "Epoch 47/80\n",
            "3/3 [==============================] - 0s 28ms/step - loss: 3.1198e-07 - val_loss: 6.1474e-08\n",
            "Epoch 48/80\n",
            "3/3 [==============================] - 0s 27ms/step - loss: 1.3811e-07 - val_loss: 1.3889e-07\n",
            "Epoch 49/80\n",
            "3/3 [==============================] - 0s 27ms/step - loss: 1.5590e-07 - val_loss: 1.8953e-07\n",
            "Epoch 50/80\n",
            "3/3 [==============================] - 0s 18ms/step - loss: 1.2179e-07 - val_loss: 1.9696e-07\n",
            "Epoch 51/80\n",
            "3/3 [==============================] - 0s 28ms/step - loss: 9.4266e-08 - val_loss: 8.3281e-08\n",
            "Epoch 52/80\n",
            "3/3 [==============================] - 0s 29ms/step - loss: 6.8945e-08 - val_loss: 5.6963e-08\n",
            "Epoch 53/80\n",
            "3/3 [==============================] - 0s 31ms/step - loss: 7.6590e-08 - val_loss: 8.2483e-08\n",
            "Epoch 54/80\n",
            "3/3 [==============================] - 0s 22ms/step - loss: 5.9295e-08 - val_loss: 5.8818e-08\n",
            "Epoch 55/80\n",
            "3/3 [==============================] - 0s 26ms/step - loss: 3.6259e-08 - val_loss: 2.4570e-08\n",
            "Epoch 56/80\n",
            "3/3 [==============================] - 0s 17ms/step - loss: 3.0977e-08 - val_loss: 1.5476e-08\n",
            "Epoch 57/80\n",
            "3/3 [==============================] - 0s 18ms/step - loss: 2.2505e-08 - val_loss: 4.6238e-08\n",
            "Epoch 58/80\n",
            "3/3 [==============================] - 0s 25ms/step - loss: 2.8321e-08 - val_loss: 1.2097e-08\n",
            "Epoch 59/80\n",
            "3/3 [==============================] - 0s 27ms/step - loss: 1.4836e-08 - val_loss: 3.1945e-09\n",
            "Epoch 60/80\n",
            "3/3 [==============================] - 0s 17ms/step - loss: 1.2958e-08 - val_loss: 9.4962e-09\n",
            "Epoch 61/80\n",
            "3/3 [==============================] - 0s 18ms/step - loss: 1.0480e-08 - val_loss: 3.6734e-09\n",
            "Epoch 62/80\n",
            "3/3 [==============================] - 0s 19ms/step - loss: 9.9301e-09 - val_loss: 2.8743e-09\n",
            "Epoch 63/80\n",
            "3/3 [==============================] - 0s 19ms/step - loss: 5.5396e-09 - val_loss: 5.4732e-11\n",
            "Epoch 64/80\n",
            "3/3 [==============================] - 0s 27ms/step - loss: 3.1043e-09 - val_loss: 1.7128e-09\n",
            "Epoch 65/80\n",
            "3/3 [==============================] - 0s 27ms/step - loss: 3.9221e-09 - val_loss: 6.9922e-10\n",
            "Epoch 66/80\n",
            "3/3 [==============================] - 0s 22ms/step - loss: 2.1396e-09 - val_loss: 1.7080e-09\n",
            "Epoch 67/80\n",
            "3/3 [==============================] - 0s 21ms/step - loss: 1.8695e-09 - val_loss: 1.5339e-10\n",
            "Epoch 68/80\n",
            "3/3 [==============================] - 0s 20ms/step - loss: 7.7158e-10 - val_loss: 8.1688e-10\n",
            "Epoch 69/80\n",
            "3/3 [==============================] - 0s 19ms/step - loss: 1.1333e-09 - val_loss: 5.7742e-10\n",
            "Epoch 70/80\n",
            "3/3 [==============================] - 0s 24ms/step - loss: 3.5916e-10 - val_loss: 2.3612e-10\n",
            "Epoch 71/80\n",
            "3/3 [==============================] - 0s 21ms/step - loss: 3.7807e-10 - val_loss: 2.2025e-10\n",
            "Epoch 72/80\n",
            "3/3 [==============================] - 0s 28ms/step - loss: 1.9283e-10 - val_loss: 1.1775e-10\n",
            "Epoch 73/80\n",
            "3/3 [==============================] - 0s 26ms/step - loss: 2.0286e-10 - val_loss: 7.8871e-11\n",
            "Epoch 74/80\n",
            "3/3 [==============================] - 0s 31ms/step - loss: 4.4434e-11 - val_loss: 2.0765e-11\n",
            "Epoch 75/80\n",
            "3/3 [==============================] - 0s 18ms/step - loss: 4.5154e-11 - val_loss: 5.4546e-11\n",
            "Epoch 76/80\n",
            "3/3 [==============================] - 0s 18ms/step - loss: 3.7718e-11 - val_loss: 3.7839e-11\n",
            "Epoch 77/80\n",
            "3/3 [==============================] - 0s 26ms/step - loss: 3.0972e-11 - val_loss: 3.1190e-11\n",
            "Epoch 78/80\n",
            "3/3 [==============================] - 0s 19ms/step - loss: 1.1512e-11 - val_loss: 5.1712e-12\n",
            "Epoch 79/80\n",
            "3/3 [==============================] - 0s 30ms/step - loss: 1.3670e-11 - val_loss: 3.1772e-11\n",
            "Epoch 80/80\n",
            "3/3 [==============================] - 0s 21ms/step - loss: 1.1678e-11 - val_loss: 4.1654e-12\n"
          ]
        }
      ]
    },
    {
      "cell_type": "code",
      "source": [
        "#graph - loss per iteration\n",
        "plt.plot(r.history['loss'], label = 'loss')\n",
        "plt.plot(r.history['val_loss'], label = 'val_loss')\n",
        "plt.legend()"
      ],
      "metadata": {
        "colab": {
          "base_uri": "https://localhost:8080/",
          "height": 447
        },
        "id": "1Uv3Clzlosss",
        "outputId": "74913a25-aa2a-4fd8-ddfb-2271c65511e9"
      },
      "execution_count": null,
      "outputs": [
        {
          "output_type": "execute_result",
          "data": {
            "text/plain": [
              "<matplotlib.legend.Legend at 0x7e4f71af6fe0>"
            ]
          },
          "metadata": {},
          "execution_count": 46
        },
        {
          "output_type": "display_data",
          "data": {
            "text/plain": [
              "<Figure size 640x480 with 1 Axes>"
            ],
            "image/png": "[encoded data removed]"
          },
          "metadata": {}
        }
      ]
    },
    {
      "cell_type": "code",
      "source": [
        "#'Wrong' forecast using true targets\n",
        "validation_targets =  Y[-N//2:]\n",
        "validation_predictions = []\n",
        "\n",
        "i = -N//2\n",
        "while len(validation_predictions) < len(validation_targets):\n",
        "  p = model.predict(X[i].reshape(1,-1))[0,0]  #1x1 array -> scalar, return NxK output - N is samples and K is output nodes\n",
        "  i+=1\n",
        "\n",
        "  validation_predictions.append(p)\n",
        "\n",
        "plt.plot(validation_targets, label = 'forecast target')\n",
        "plt.plot(validation_predictions, label = 'forecast prediction')\n",
        "plt.legend()"
      ],
      "metadata": {
        "colab": {
          "base_uri": "https://localhost:8080/",
          "height": 1000
        },
        "id": "xgOcssDiqu83",
        "outputId": "7baec1e6-1eff-4601-c2d4-ac9a7c185757"
      },
      "execution_count": null,
      "outputs": [
        {
          "output_type": "stream",
          "name": "stdout",
          "text": [
            "1/1 [==============================] - 0s 49ms/step\n",
            "1/1 [==============================] - 0s 24ms/step\n",
            "1/1 [==============================] - 0s 23ms/step\n",
            "1/1 [==============================] - 0s 23ms/step\n",
            "1/1 [==============================] - 0s 31ms/step\n",
            "1/1 [==============================] - 0s 36ms/step\n",
            "1/1 [==============================] - 0s 37ms/step\n",
            "1/1 [==============================] - 0s 32ms/step\n",
            "1/1 [==============================] - 0s 32ms/step\n",
            "1/1 [==============================] - 0s 44ms/step\n",
            "1/1 [==============================] - 0s 34ms/step\n",
            "1/1 [==============================] - 0s 44ms/step\n",
            "1/1 [==============================] - 0s 41ms/step\n",
            "1/1 [==============================] - 0s 33ms/step\n",
            "1/1 [==============================] - 0s 45ms/step\n",
            "1/1 [==============================] - 0s 33ms/step\n",
            "1/1 [==============================] - 0s 33ms/step\n",
            "1/1 [==============================] - 0s 41ms/step\n",
            "1/1 [==============================] - 0s 41ms/step\n",
            "1/1 [==============================] - 0s 33ms/step\n",
            "1/1 [==============================] - 0s 35ms/step\n",
            "1/1 [==============================] - 0s 39ms/step\n",
            "1/1 [==============================] - 0s 33ms/step\n",
            "1/1 [==============================] - 0s 39ms/step\n",
            "1/1 [==============================] - 0s 32ms/step\n",
            "1/1 [==============================] - 0s 33ms/step\n",
            "1/1 [==============================] - 0s 39ms/step\n",
            "1/1 [==============================] - 0s 21ms/step\n",
            "1/1 [==============================] - 0s 21ms/step\n",
            "1/1 [==============================] - 0s 21ms/step\n",
            "1/1 [==============================] - 0s 27ms/step\n",
            "1/1 [==============================] - 0s 22ms/step\n",
            "1/1 [==============================] - 0s 24ms/step\n",
            "1/1 [==============================] - 0s 24ms/step\n",
            "1/1 [==============================] - 0s 23ms/step\n",
            "1/1 [==============================] - 0s 24ms/step\n",
            "1/1 [==============================] - 0s 22ms/step\n",
            "1/1 [==============================] - 0s 26ms/step\n",
            "1/1 [==============================] - 0s 22ms/step\n",
            "1/1 [==============================] - 0s 21ms/step\n",
            "1/1 [==============================] - 0s 21ms/step\n",
            "1/1 [==============================] - 0s 20ms/step\n",
            "1/1 [==============================] - 0s 28ms/step\n",
            "1/1 [==============================] - 0s 24ms/step\n",
            "1/1 [==============================] - 0s 27ms/step\n",
            "1/1 [==============================] - 0s 27ms/step\n",
            "1/1 [==============================] - 0s 22ms/step\n",
            "1/1 [==============================] - 0s 22ms/step\n",
            "1/1 [==============================] - 0s 21ms/step\n",
            "1/1 [==============================] - 0s 21ms/step\n",
            "1/1 [==============================] - 0s 26ms/step\n",
            "1/1 [==============================] - 0s 21ms/step\n",
            "1/1 [==============================] - 0s 23ms/step\n",
            "1/1 [==============================] - 0s 23ms/step\n",
            "1/1 [==============================] - 0s 23ms/step\n",
            "1/1 [==============================] - 0s 21ms/step\n",
            "1/1 [==============================] - 0s 24ms/step\n",
            "1/1 [==============================] - 0s 21ms/step\n",
            "1/1 [==============================] - 0s 24ms/step\n",
            "1/1 [==============================] - 0s 22ms/step\n",
            "1/1 [==============================] - 0s 28ms/step\n",
            "1/1 [==============================] - 0s 26ms/step\n",
            "1/1 [==============================] - 0s 23ms/step\n",
            "1/1 [==============================] - 0s 23ms/step\n",
            "1/1 [==============================] - 0s 22ms/step\n",
            "1/1 [==============================] - 0s 22ms/step\n",
            "1/1 [==============================] - 0s 24ms/step\n",
            "1/1 [==============================] - 0s 22ms/step\n",
            "1/1 [==============================] - 0s 21ms/step\n",
            "1/1 [==============================] - 0s 22ms/step\n",
            "1/1 [==============================] - 0s 34ms/step\n",
            "1/1 [==============================] - 0s 23ms/step\n",
            "1/1 [==============================] - 0s 24ms/step\n",
            "1/1 [==============================] - 0s 21ms/step\n",
            "1/1 [==============================] - 0s 23ms/step\n",
            "1/1 [==============================] - 0s 28ms/step\n",
            "1/1 [==============================] - 0s 26ms/step\n",
            "1/1 [==============================] - 0s 22ms/step\n",
            "1/1 [==============================] - 0s 23ms/step\n",
            "1/1 [==============================] - 0s 23ms/step\n",
            "1/1 [==============================] - 0s 22ms/step\n",
            "1/1 [==============================] - 0s 23ms/step\n",
            "1/1 [==============================] - 0s 23ms/step\n",
            "1/1 [==============================] - 0s 25ms/step\n",
            "1/1 [==============================] - 0s 22ms/step\n",
            "1/1 [==============================] - 0s 24ms/step\n",
            "1/1 [==============================] - 0s 23ms/step\n",
            "1/1 [==============================] - 0s 23ms/step\n",
            "1/1 [==============================] - 0s 25ms/step\n",
            "1/1 [==============================] - 0s 24ms/step\n",
            "1/1 [==============================] - 0s 26ms/step\n",
            "1/1 [==============================] - 0s 21ms/step\n",
            "1/1 [==============================] - 0s 21ms/step\n",
            "1/1 [==============================] - 0s 25ms/step\n",
            "1/1 [==============================] - 0s 21ms/step\n"
          ]
        },
        {
          "output_type": "execute_result",
          "data": {
            "text/plain": [
              "<matplotlib.legend.Legend at 0x7e4f70e2ddb0>"
            ]
          },
          "metadata": {},
          "execution_count": 47
        },
        {
          "output_type": "display_data",
          "data": {
            "text/plain": [
              "<Figure size 640x480 with 1 Axes>"
            ],
            "image/png": "[encoded data removed]"
          },
          "metadata": {}
        }
      ]
    },
    {
      "cell_type": "code",
      "source": [
        "#Forecast in correct way - very good for dataset with noise\n",
        "validation_targets = Y[-N//2 :]\n",
        "validation_predictions = []\n",
        "\n",
        "#last train input\n",
        "last_X = X[-N//2] #true input data cannot be used to train and predict future values , last_X is considered first input vector\n",
        "\n",
        "while len(validation_predictions) < len(validation_targets):\n",
        "  p = model.predict(last_X.reshape(1,-1))[0,0]\n",
        "  validation_predictions.append(p)\n",
        "  #new input - shift all the values to the left and make a new input\n",
        "  last_X = np.roll(last_X, -1)\n",
        "  last_X[-1] = p\n",
        "\n",
        "plt.plot(validation_targets, label = 'forecast target')\n",
        "plt.plot(validation_predictions, label = 'forecast prediction')\n",
        "plt.legend()\n"
      ],
      "metadata": {
        "colab": {
          "base_uri": "https://localhost:8080/",
          "height": 1000
        },
        "id": "izKlxePRv5wu",
        "outputId": "473e3587-afbc-48d4-c196-ce329f401809"
      },
      "execution_count": null,
      "outputs": [
        {
          "output_type": "stream",
          "name": "stdout",
          "text": [
            "1/1 [==============================] - 0s 25ms/step\n",
            "1/1 [==============================] - 0s 24ms/step\n",
            "1/1 [==============================] - 0s 22ms/step\n",
            "1/1 [==============================] - 0s 22ms/step\n",
            "1/1 [==============================] - 0s 24ms/step\n",
            "1/1 [==============================] - 0s 21ms/step\n",
            "1/1 [==============================] - 0s 22ms/step\n",
            "1/1 [==============================] - 0s 24ms/step\n",
            "1/1 [==============================] - 0s 37ms/step\n",
            "1/1 [==============================] - 0s 25ms/step\n",
            "1/1 [==============================] - 0s 22ms/step\n",
            "1/1 [==============================] - 0s 23ms/step\n",
            "1/1 [==============================] - 0s 36ms/step\n",
            "1/1 [==============================] - 0s 26ms/step\n",
            "1/1 [==============================] - 0s 24ms/step\n",
            "1/1 [==============================] - 0s 27ms/step\n",
            "1/1 [==============================] - 0s 28ms/step\n",
            "1/1 [==============================] - 0s 21ms/step\n",
            "1/1 [==============================] - 0s 62ms/step\n",
            "1/1 [==============================] - 0s 32ms/step\n",
            "1/1 [==============================] - 0s 44ms/step\n",
            "1/1 [==============================] - 0s 43ms/step\n",
            "1/1 [==============================] - 0s 28ms/step\n",
            "1/1 [==============================] - 0s 22ms/step\n",
            "1/1 [==============================] - 0s 25ms/step\n",
            "1/1 [==============================] - 0s 26ms/step\n",
            "1/1 [==============================] - 0s 22ms/step\n",
            "1/1 [==============================] - 0s 22ms/step\n",
            "1/1 [==============================] - 0s 21ms/step\n",
            "1/1 [==============================] - 0s 22ms/step\n",
            "1/1 [==============================] - 0s 24ms/step\n",
            "1/1 [==============================] - 0s 21ms/step\n",
            "1/1 [==============================] - 0s 22ms/step\n",
            "1/1 [==============================] - 0s 25ms/step\n",
            "1/1 [==============================] - 0s 21ms/step\n",
            "1/1 [==============================] - 0s 26ms/step\n",
            "1/1 [==============================] - 0s 25ms/step\n",
            "1/1 [==============================] - 0s 22ms/step\n",
            "1/1 [==============================] - 0s 24ms/step\n",
            "1/1 [==============================] - 0s 24ms/step\n",
            "1/1 [==============================] - 0s 25ms/step\n",
            "1/1 [==============================] - 0s 23ms/step\n",
            "1/1 [==============================] - 0s 30ms/step\n",
            "1/1 [==============================] - 0s 22ms/step\n",
            "1/1 [==============================] - 0s 23ms/step\n",
            "1/1 [==============================] - 0s 24ms/step\n",
            "1/1 [==============================] - 0s 22ms/step\n",
            "1/1 [==============================] - 0s 25ms/step\n",
            "1/1 [==============================] - 0s 26ms/step\n",
            "1/1 [==============================] - 0s 22ms/step\n",
            "1/1 [==============================] - 0s 22ms/step\n",
            "1/1 [==============================] - 0s 27ms/step\n",
            "1/1 [==============================] - 0s 26ms/step\n",
            "1/1 [==============================] - 0s 27ms/step\n",
            "1/1 [==============================] - 0s 22ms/step\n",
            "1/1 [==============================] - 0s 21ms/step\n",
            "1/1 [==============================] - 0s 22ms/step\n",
            "1/1 [==============================] - 0s 31ms/step\n",
            "1/1 [==============================] - 0s 24ms/step\n",
            "1/1 [==============================] - 0s 33ms/step\n",
            "1/1 [==============================] - 0s 46ms/step\n",
            "1/1 [==============================] - 0s 46ms/step\n",
            "1/1 [==============================] - 0s 35ms/step\n",
            "1/1 [==============================] - 0s 32ms/step\n",
            "1/1 [==============================] - 0s 32ms/step\n",
            "1/1 [==============================] - 0s 45ms/step\n",
            "1/1 [==============================] - 0s 32ms/step\n",
            "1/1 [==============================] - 0s 32ms/step\n",
            "1/1 [==============================] - 0s 31ms/step\n",
            "1/1 [==============================] - 0s 39ms/step\n",
            "1/1 [==============================] - 0s 37ms/step\n",
            "1/1 [==============================] - 0s 34ms/step\n",
            "1/1 [==============================] - 0s 41ms/step\n",
            "1/1 [==============================] - 0s 33ms/step\n",
            "1/1 [==============================] - 0s 37ms/step\n",
            "1/1 [==============================] - 0s 31ms/step\n",
            "1/1 [==============================] - 0s 34ms/step\n",
            "1/1 [==============================] - 0s 36ms/step\n",
            "1/1 [==============================] - 0s 36ms/step\n",
            "1/1 [==============================] - 0s 34ms/step\n",
            "1/1 [==============================] - 0s 36ms/step\n",
            "1/1 [==============================] - 0s 40ms/step\n",
            "1/1 [==============================] - 0s 26ms/step\n",
            "1/1 [==============================] - 0s 21ms/step\n",
            "1/1 [==============================] - 0s 21ms/step\n",
            "1/1 [==============================] - 0s 22ms/step\n",
            "1/1 [==============================] - 0s 22ms/step\n",
            "1/1 [==============================] - 0s 23ms/step\n",
            "1/1 [==============================] - 0s 22ms/step\n",
            "1/1 [==============================] - 0s 23ms/step\n",
            "1/1 [==============================] - 0s 22ms/step\n",
            "1/1 [==============================] - 0s 23ms/step\n",
            "1/1 [==============================] - 0s 23ms/step\n",
            "1/1 [==============================] - 0s 23ms/step\n",
            "1/1 [==============================] - 0s 26ms/step\n"
          ]
        },
        {
          "output_type": "execute_result",
          "data": {
            "text/plain": [
              "<matplotlib.legend.Legend at 0x7e4f71ad05e0>"
            ]
          },
          "metadata": {},
          "execution_count": 48
        },
        {
          "output_type": "display_data",
          "data": {
            "text/plain": [
              "<Figure size 640x480 with 1 Axes>"
            ],
            "image/png": "[encoded data removed]"
          },
          "metadata": {}
        }
      ]
    },
    {
      "cell_type": "code",
      "source": [],
      "metadata": {
        "id": "JuA_TBS1yBup"
      },
      "execution_count": null,
      "outputs": []
    }
  ],
  "metadata": {
    "colab": {
      "provenance": [],
      "authorship_tag": "ABX9TyPaM9ZQwvwqxIAWxqX8DOab",
      "include_colab_link": true
    },
    "kernelspec": {
      "display_name": "Python 3",
      "name": "python3"
    },
    "language_info": {
      "name": "python"
    }
  },
  "nbformat": 4,
  "nbformat_minor": 0
}